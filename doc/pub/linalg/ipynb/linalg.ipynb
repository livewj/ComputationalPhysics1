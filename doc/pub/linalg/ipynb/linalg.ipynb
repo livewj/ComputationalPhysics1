{
 "metadata": {},
 "nbformat": 3,
 "nbformat_minor": 0,
 "worksheets": [
  {
   "cells": [
    {
     "cell_type": "markdown",
     "metadata": {},
     "source": [
      "# Slides from FYS3150/4150 Lectures: Linear Algebra methods\n",
      "**Fall 2014**\n",
      "\n",
      "### Important Matrix and vector handling packages\n",
      "\n",
      "The Numerical Recipes codes have been rewritten in Fortran 90/95 and\n",
      "C/C++ by us.  The original source codes are taken from the widely used\n",
      "software package LAPACK, which follows two other popular packages\n",
      "developed in the 1970s, namely EISPACK and LINPACK.\n",
      "\n",
      "  * LINPACK: package for linear equations and least square problems.\n",
      "\n",
      "  * LAPACK:package for solving symmetric, unsymmetric and generalized eigenvalue problems. From LAPACK's website <http://www.netlib.org> it is possible to download for free all source codes from this library. Both C/C++ and Fortran versions are available.\n",
      "\n",
      "  * BLAS (I, II and III): (Basic Linear Algebra Subprograms) are routines that provide standard building blocks for performing basic vector and matrix operations. Blas I is vector operations, II vector-matrix operations and III matrix-matrix operations. Highly parallelized and efficient codes, all available for download from <http://www.netlib.org>.\n",
      "\n",
      "### Basic Matrix Features\n",
      "\n",
      "**Matrix properties reminder.**"
     ]
    },
    {
     "cell_type": "markdown",
     "metadata": {},
     "source": [
      "$$\n",
      "{\\bf A} =\n",
      "      \\left( \\begin{array}{cccc} a_{11} & a_{12} & a_{13} & a_{14} \\\\\n",
      "                                 a_{21} & a_{22} & a_{23} & a_{24} \\\\\n",
      "                                   a_{31} & a_{32} & a_{33} & a_{34} \\\\\n",
      "                                  a_{41} & a_{42} & a_{43} & a_{44}\n",
      "             \\end{array} \\right)\\qquad\n",
      "{\\bf I} =\n",
      "      \\left( \\begin{array}{cccc} 1 & 0 & 0 & 0 \\\\\n",
      "                                 0 & 1 & 0 & 0 \\\\\n",
      "                                 0 & 0 & 1 & 0 \\\\\n",
      "                                 0 & 0 & 0 & 1\n",
      "             \\end{array} \\right)\n",
      "$$"
     ]
    },
    {
     "cell_type": "markdown",
     "metadata": {},
     "source": [
      "The inverse of a matrix is defined by"
     ]
    },
    {
     "cell_type": "markdown",
     "metadata": {},
     "source": [
      "$$\n",
      "{\\bf A}^{-1} \\cdot {\\bf A} = I\n",
      "$$"
     ]
    },
    {
     "cell_type": "markdown",
     "metadata": {},
     "source": [
      "### Basic Matrix Features\n",
      "\n",
      "**Matrix Properties Reminder.**\n",
      "\n",
      "\n",
      "<table border=\"1\">\n",
      "<thead>\n",
      "<tr><th align=\"center\">              Relations               </th> <th align=\"center\">      Name     </th> <th align=\"center\">                          matrix elements                          </th> </tr>\n",
      "</thead>\n",
      "<tbody>\n",
      "<tr><td align=\"center\">   $A = A^{T}$                               </td> <td align=\"center\">   symmetric          </td> <td align=\"center\">   $a_{ij} = a_{ji}$                                                      </td> </tr>\n",
      "<tr><td align=\"center\">   $A = \\left (A^{T} \\right )^{-1}$          </td> <td align=\"center\">   real orthogonal    </td> <td align=\"center\">   $\\sum_k a_{ik} a_{jk} = \\sum_k a_{ki} a_{kj} = \\delta_{ij}$            </td> </tr>\n",
      "<tr><td align=\"center\">   $A = A^{*}$                               </td> <td align=\"center\">   real matrix        </td> <td align=\"center\">   $a_{ij} = a_{ij}^{*}$                                                  </td> </tr>\n",
      "<tr><td align=\"center\">   $A = A^{\\dagger}$                         </td> <td align=\"center\">   hermitian          </td> <td align=\"center\">   $a_{ij} = a_{ji}^{*}$                                                  </td> </tr>\n",
      "<tr><td align=\"center\">   $A = \\left (A^{\\dagger} \\right )^{-1}$    </td> <td align=\"center\">   unitary            </td> <td align=\"center\">   $\\sum_k a_{ik} a_{jk}^{*} = \\sum_k a_{ki}^{*} a_{kj} = \\delta_{ij}$    </td> </tr>\n",
      "</tbody>\n",
      "</table>\n",
      "\n",
      "\n",
      "\n",
      "### Some famous Matrices\n",
      "\n",
      "  * Diagonal if $a_{ij}=0$ for $i\\ne j$\n",
      "\n",
      "  * Upper triangular if $a_{ij}=0$ for $i > j$\n",
      "\n",
      "  * Lower triangular if $a_{ij}=0$ for $i < j$\n",
      "\n",
      "  * Upper Hessenberg if $a_{ij}=0$ for $i > j+1$\n",
      "\n",
      "  * Lower Hessenberg if $a_{ij}=0$ for $i < j+1$\n",
      "\n",
      "  * Tridiagonal if $a_{ij}=0$ for $|i -j| > 1$\n",
      "\n",
      "  * Lower banded with bandwidth $p$: $a_{ij}=0$ for $i > j+p$\n",
      "\n",
      "  * Upper banded with bandwidth $p$: $a_{ij}=0$ for $i < j+p$\n",
      "\n",
      "  * Banded, block upper triangular, block lower triangular....\n",
      "\n",
      "### Basic Matrix Features\n",
      "\n",
      "**Some Equivalent Statements.**\n",
      "\n",
      "For an $N\\times N$ matrix  ${\\bf A}$ the following properties are all equivalent\n",
      "\n",
      "  * If the inverse of ${\\bf A}$ exists, ${\\bf A}$ is nonsingular.\n",
      "\n",
      "  * The equation ${\\bf Ax}=0$ implies ${\\bf x}=0$.\n",
      "\n",
      "  * The rows of ${\\bf A}$ form a basis of $R^N$.\n",
      "\n",
      "  * The columns of ${\\bf A}$ form a basis of $R^N$.\n",
      "\n",
      "  * ${\\bf A}$ is a product of elementary matrices.\n",
      "\n",
      "  * $0$ is not eigenvalue of ${\\bf A}$.\n",
      "\n",
      "\n",
      "\n",
      "### Important Mathematical Operations\n",
      "\n",
      "The basic matrix operations that we will deal with are addition and subtraction"
     ]
    },
    {
     "cell_type": "markdown",
     "metadata": {},
     "source": [
      "<!-- Equation labels as ordinary links -->\n",
      "<div id=\"eq:mtxadd\"></div>\n",
      "\n",
      "$$\n",
      "\\begin{equation}\n",
      "{\\bf A}= {\\bf B}\\pm{\\bf C}  \\Longrightarrow a_{ij} = b_{ij}\\pm c_{ij},\n",
      "\\label{eq:mtxadd} \\tag{1}\n",
      "\\end{equation}\n",
      "$$"
     ]
    },
    {
     "cell_type": "markdown",
     "metadata": {},
     "source": [
      "scalar-matrix multiplication"
     ]
    },
    {
     "cell_type": "markdown",
     "metadata": {},
     "source": [
      "$$\n",
      "\\begin{equation}\n",
      "{\\bf A}= \\gamma{\\bf B}  \\Longrightarrow a_{ij} = \\gamma b_{ij},\n",
      "\\end{equation}\n",
      "$$"
     ]
    },
    {
     "cell_type": "markdown",
     "metadata": {},
     "source": [
      "vector-matrix multiplication"
     ]
    },
    {
     "cell_type": "markdown",
     "metadata": {},
     "source": [
      "<!-- Equation labels as ordinary links -->\n",
      "<div id=\"eq:vecmtx\"></div>\n",
      "\n",
      "$$\n",
      "\\begin{equation}\n",
      "{\\bf y}={\\bf Ax}   \\Longrightarrow y_{i} = \\sum_{j=1}^{n} a_{ij}x_j,\n",
      "\\label{eq:vecmtx} \\tag{2}\n",
      "\\end{equation}\n",
      "$$"
     ]
    },
    {
     "cell_type": "markdown",
     "metadata": {},
     "source": [
      "matrix-matrix multiplication"
     ]
    },
    {
     "cell_type": "markdown",
     "metadata": {},
     "source": [
      "<!-- Equation labels as ordinary links -->\n",
      "<div id=\"eq:mtxmtx\"></div>\n",
      "\n",
      "$$\n",
      "\\begin{equation}\n",
      "{\\bf A}={\\bf BC}   \\Longrightarrow a_{ij} = \\sum_{k=1}^{n} b_{ik}c_{kj},\n",
      "\\label{eq:mtxmtx} \\tag{3}\n",
      "\\end{equation}\n",
      "$$"
     ]
    },
    {
     "cell_type": "markdown",
     "metadata": {},
     "source": [
      "and transposition"
     ]
    },
    {
     "cell_type": "markdown",
     "metadata": {},
     "source": [
      "$$\n",
      "\\begin{equation}\n",
      "{\\bf A}={\\bf B}^T   \\Longrightarrow a_{ij} = b_{ji}\n",
      "\\end{equation}\n",
      "$$"
     ]
    },
    {
     "cell_type": "markdown",
     "metadata": {},
     "source": [
      "### Important Mathematical Operations\n",
      "\n",
      "Similarly, important vector operations that we will deal with are addition and subtraction"
     ]
    },
    {
     "cell_type": "markdown",
     "metadata": {},
     "source": [
      "$$\n",
      "\\begin{equation}\n",
      "{\\bf x}= {\\bf y}\\pm{\\bf z}  \\Longrightarrow x_{i} = y_{i}\\pm z_{i},\n",
      "\\end{equation}\n",
      "$$"
     ]
    },
    {
     "cell_type": "markdown",
     "metadata": {},
     "source": [
      "scalar-vector multiplication"
     ]
    },
    {
     "cell_type": "markdown",
     "metadata": {},
     "source": [
      "$$\n",
      "\\begin{equation}\n",
      "{\\bf x}= \\gamma{\\bf y}  \\Longrightarrow x_{i} = \\gamma y_{i},\n",
      "\\end{equation}\n",
      "$$"
     ]
    },
    {
     "cell_type": "markdown",
     "metadata": {},
     "source": [
      "vector-vector multiplication (called Hadamard multiplication)"
     ]
    },
    {
     "cell_type": "markdown",
     "metadata": {},
     "source": [
      "$$\n",
      "\\begin{equation}\n",
      "{\\bf x}={\\bf yz}   \\Longrightarrow x_{i} = y_{i}z_i,\n",
      "\\end{equation}\n",
      "$$"
     ]
    },
    {
     "cell_type": "markdown",
     "metadata": {},
     "source": [
      "the inner or so-called dot product  resulting in a constant"
     ]
    },
    {
     "cell_type": "markdown",
     "metadata": {},
     "source": [
      "<!-- Equation labels as ordinary links -->\n",
      "<div id=\"eq:innerprod\"></div>\n",
      "\n",
      "$$\n",
      "\\begin{equation}\n",
      "x={\\bf y}^T{\\bf z}   \\Longrightarrow x = \\sum_{j=1}^{n} y_{j}z_{j},\n",
      "\\label{eq:innerprod} \\tag{4}\n",
      "\\end{equation}\n",
      "$$"
     ]
    },
    {
     "cell_type": "markdown",
     "metadata": {},
     "source": [
      "and the outer product, which yields a matrix,"
     ]
    },
    {
     "cell_type": "markdown",
     "metadata": {},
     "source": [
      "<!-- Equation labels as ordinary links -->\n",
      "<div id=\"eq:outerprod\"></div>\n",
      "\n",
      "$$\n",
      "\\begin{equation}\n",
      "{\\bf A}=  {\\bf yz}^T \\Longrightarrow  a_{ij} = y_{i}z_{j},\n",
      "\\label{eq:outerprod} \\tag{5}\n",
      "\\end{equation}\n",
      "$$"
     ]
    },
    {
     "cell_type": "markdown",
     "metadata": {},
     "source": [
      "### Matrix Handling in C/C++, Static and Dynamical allocation\n",
      "\n",
      "**Static.**\n",
      "\n",
      "We have  an $N\\times N$ matrix A  with $N=100$\n",
      "In C/C++ this would be  defined as"
     ]
    },
    {
     "cell_type": "markdown",
     "metadata": {},
     "source": [
      "           int N = 100;\n",
      "           double A[100][100];\n",
      "           //   initialize all elements to zero\n",
      "           for(i=0 ; i < N ; i++) {\n",
      "              for(j=0 ; j < N ; j++) {\n",
      "                 A[i][j] = 0.0;\n",
      "        \n"
     ]
    },
    {
     "cell_type": "markdown",
     "metadata": {},
     "source": [
      "Note the way the matrix is organized, row-major order.\n",
      "\n",
      "\n",
      "\n",
      "### Matrix Handling in C/C++\n",
      "\n",
      "**Row Major Order, Addition.**\n",
      "\n",
      "We have  $N\\times N$ matrices A, B and C and we wish to\n",
      "evaluate $A=B+C$."
     ]
    },
    {
     "cell_type": "markdown",
     "metadata": {},
     "source": [
      "$$\n",
      "{\\bf A}= {\\bf B}\\pm{\\bf C}  \\Longrightarrow a_{ij} = b_{ij}\\pm c_{ij},\n",
      "$$"
     ]
    },
    {
     "cell_type": "markdown",
     "metadata": {},
     "source": [
      "In C/C++ this would be coded like"
     ]
    },
    {
     "cell_type": "markdown",
     "metadata": {},
     "source": [
      "           for(i=0 ; i < N ; i++) {\n",
      "              for(j=0 ; j < N ; j++) {\n",
      "                 a[i][j] = b[i][j]+c[i][j]\n",
      "        \n"
     ]
    },
    {
     "cell_type": "markdown",
     "metadata": {},
     "source": [
      "### Matrix Handling in C/C++\n",
      "\n",
      "**Row Major Order, Multiplication.**\n",
      "\n",
      "We have  $N\\times N$ matrices A, B and C and we wish to\n",
      "evaluate $A=BC$."
     ]
    },
    {
     "cell_type": "markdown",
     "metadata": {},
     "source": [
      "$$\n",
      "{\\bf A}={\\bf BC}   \\Longrightarrow a_{ij} = \\sum_{k=1}^{n} b_{ik}c_{kj},\n",
      "$$"
     ]
    },
    {
     "cell_type": "markdown",
     "metadata": {},
     "source": [
      "In C/C++ this would be coded like"
     ]
    },
    {
     "cell_type": "markdown",
     "metadata": {},
     "source": [
      "           for(i=0 ; i < N ; i++) {\n",
      "              for(j=0 ; j < N ; j++) {\n",
      "                 for(k=0 ; k < N ; k++) {\n",
      "                    a[i][j]+=b[i][k]*c[k][j];\n",
      "        \n"
     ]
    },
    {
     "cell_type": "markdown",
     "metadata": {},
     "source": [
      "### Matrix Handling in Fortran 90/95\n",
      "\n",
      "**Column Major Order.**"
     ]
    },
    {
     "cell_type": "markdown",
     "metadata": {},
     "source": [
      "           ALLOCATE (a(N,N), b(N,N), c(N,N))\n",
      "           DO j=1,  N\n",
      "              DO i=1, N\n",
      "                 a(i,j)=b(i,j)+c(i,j)\n",
      "              ENDDO\n",
      "           ENDDO\n",
      "           ...\n",
      "           DEALLOCATE(a,b,c)\n"
     ]
    },
    {
     "cell_type": "markdown",
     "metadata": {},
     "source": [
      "Fortran 90 writes the above statements in a much simpler way"
     ]
    },
    {
     "cell_type": "markdown",
     "metadata": {},
     "source": [
      "           a=b+c\n"
     ]
    },
    {
     "cell_type": "markdown",
     "metadata": {},
     "source": [
      "Multiplication"
     ]
    },
    {
     "cell_type": "markdown",
     "metadata": {},
     "source": [
      "           a=MATMUL(b,c)\n"
     ]
    },
    {
     "cell_type": "markdown",
     "metadata": {},
     "source": [
      "Fortran contains also the intrinsic functions TRANSPOSE and CONJUGATE.\n",
      "\n",
      "\n",
      "\n",
      "### Dynamic memory allocation in C/C++\n",
      "\n",
      "At least three possibilities in this course\n",
      "\n",
      "  * Do it yourself\n",
      "\n",
      "  * Use the functions provided in the library package lib.cpp\n",
      "\n",
      "  * Use Armadillo <http://arma.sourceforgenet> (a C++ linear algebra library, discussion next two weeks, both here and at lab). !split\n",
      "\n",
      "### Matrix Handling in C/C++, Dynamic Allocation\n",
      "\n",
      "**Do it yourself.**"
     ]
    },
    {
     "cell_type": "markdown",
     "metadata": {},
     "source": [
      "        int N;\n",
      "        double **  A;\n",
      "        A = new double*[N]\n",
      "        for ( i = 0; i < N; i++)\n",
      "            A[i] = new double[N];\n"
     ]
    },
    {
     "cell_type": "markdown",
     "metadata": {},
     "source": [
      "Always free space when you don't need an array anymore."
     ]
    },
    {
     "cell_type": "markdown",
     "metadata": {},
     "source": [
      "        for ( i = 0; i < N; i++)\n",
      "            delete[] A[i];\n",
      "        delete[] A;\n"
     ]
    },
    {
     "cell_type": "markdown",
     "metadata": {},
     "source": [
      "### Armadillo, recommended!!\n",
      "\n",
      "  * Armadillo is a C++ linear algebra library (matrix maths) aiming towards a good balance between speed and ease of use. The syntax is deliberately similar to Matlab.\n",
      "\n",
      "  * Integer, floating point and complex numbers are supported, as well as a subset of trigonometric and statistics functions. Various matrix decompositions are provided through optional integration with LAPACK, or one of its high performance drop-in replacements (such as the multi-threaded MKL or ACML libraries).\n",
      "\n",
      "  * A delayed evaluation approach is employed (at compile-time) to combine several operations into one and reduce (or eliminate) the need for temporaries. This is accomplished through recursive templates and template meta-programming.\n",
      "\n",
      "  * Useful for conversion of research code into production environments, or if C++ has been decided as the language of choice, due to speed and/or integration capabilities.\n",
      "\n",
      "  * The library is open-source software, and is distributed under a license that is useful in both open-source and commercial/proprietary contexts.\n",
      "\n",
      "### Armadillo, simple examples"
     ]
    },
    {
     "cell_type": "markdown",
     "metadata": {},
     "source": [
      "        #include <iostream>\n",
      "        #include <armadillo>\n",
      "        \n",
      "        using namespace std;\n",
      "        using namespace arma;\n",
      "        \n",
      "        int main(int argc, char** argv)\n",
      "          {\n",
      "          mat A = randu<mat>(5,5);\n",
      "          mat B = randu<mat>(5,5);\n",
      "        \n",
      "          cout << A*B << endl;\n",
      "        \n",
      "          return 0;\n",
      "        \n"
     ]
    },
    {
     "cell_type": "markdown",
     "metadata": {},
     "source": [
      "### Armadillo, how to compile and install\n",
      "\n",
      "For people using Ubuntu, Debian, Linux Mint, simply go to the synaptic package manager and install\n",
      "armadillo from there.\n",
      "You may have to install Lapack as well.\n",
      "For Mac and Windows users, follow the instructions from the webpage\n",
      "<http://arma.sourceforge.net>.\n",
      "To compile, use for example"
     ]
    },
    {
     "cell_type": "markdown",
     "metadata": {},
     "source": [
      "        c++ -O2 -o program.x program.cpp  -larmadillo -llapack -lblas\n"
     ]
    },
    {
     "cell_type": "markdown",
     "metadata": {},
     "source": [
      "where the `-l` option indicates the library you wish to link to.\n",
      "\n",
      "### Armadillo, simple examples"
     ]
    },
    {
     "cell_type": "markdown",
     "metadata": {},
     "source": [
      "        #include <iostream>\n",
      "        #include \"armadillo\"\n",
      "        using namespace arma;\n",
      "        using namespace std;\n",
      "        \n",
      "        int main(int argc, char** argv)\n",
      "          {\n",
      "          // directly specify the matrix size (elements are uninitialised)\n",
      "          mat A(2,3);\n",
      "          // .n_rows = number of rows    (read only)\n",
      "          // .n_cols = number of columns (read only)\n",
      "          cout << \"A.n_rows = \" << A.n_rows << endl;\n",
      "          cout << \"A.n_cols = \" << A.n_cols << endl;\n",
      "          // directly access an element (indexing starts at 0)\n",
      "          A(1,2) = 456.0;\n",
      "          A.print(\"A:\");\n",
      "          // scalars are treated as a 1x1 matrix,\n",
      "          // hence the code below will set A to have a size of 1x1\n",
      "          A = 5.0;\n",
      "          A.print(\"A:\");\n",
      "          // if you want a matrix with all elements set to a particular value\n",
      "          // the .fill() member function can be used\n",
      "          A.set_size(3,3);\n",
      "          A.fill(5.0);  A.print(\"A:\");\n"
     ]
    },
    {
     "cell_type": "markdown",
     "metadata": {},
     "source": [
      "### Armadillo, simple examples"
     ]
    },
    {
     "cell_type": "markdown",
     "metadata": {},
     "source": [
      "          mat B;\n",
      "        \n",
      "          // endr indicates \"end of row\"\n",
      "          B << 0.555950 << 0.274690 << 0.540605 << 0.798938 << endr\n",
      "            << 0.108929 << 0.830123 << 0.891726 << 0.895283 << endr\n",
      "            << 0.948014 << 0.973234 << 0.216504 << 0.883152 << endr\n",
      "            << 0.023787 << 0.675382 << 0.231751 << 0.450332 << endr;\n",
      "        \n",
      "          // print to the cout stream\n",
      "          // with an optional string before the contents of the matrix\n",
      "          B.print(\"B:\");\n",
      "        \n",
      "          // the << operator can also be used to print the matrix\n",
      "          // to an arbitrary stream (cout in this case)\n",
      "          cout << \"B:\" << endl << B << endl;\n",
      "          // save to disk\n",
      "          B.save(\"B.txt\", raw_ascii);\n",
      "          // load from disk\n",
      "          mat C;\n",
      "          C.load(\"B.txt\");\n",
      "          C += 2.0 * B;\n",
      "          C.print(\"C:\");\n"
     ]
    },
    {
     "cell_type": "markdown",
     "metadata": {},
     "source": [
      "### Armadillo, simple examples"
     ]
    },
    {
     "cell_type": "markdown",
     "metadata": {},
     "source": [
      "          // submatrix types:\n",
      "          //\n",
      "          // .submat(first_row, first_column, last_row, last_column)\n",
      "          // .row(row_number)\n",
      "          // .col(column_number)\n",
      "          // .cols(first_column, last_column)\n",
      "          // .rows(first_row, last_row)\n",
      "        \n",
      "          cout << \"C.submat(0,0,3,1) =\" << endl;\n",
      "          cout << C.submat(0,0,3,1) << endl;\n",
      "        \n",
      "          // generate the identity matrix\n",
      "          mat D = eye<mat>(4,4);\n",
      "        \n",
      "          D.submat(0,0,3,1) = C.cols(1,2);\n",
      "          D.print(\"D:\");\n",
      "        \n",
      "          // transpose\n",
      "          cout << \"trans(B) =\" << endl;\n",
      "          cout << trans(B) << endl;\n",
      "        \n",
      "          // maximum from each column (traverse along rows)\n",
      "          cout << \"max(B) =\" << endl;\n",
      "          cout << max(B) << endl;\n",
      "        \n"
     ]
    },
    {
     "cell_type": "markdown",
     "metadata": {},
     "source": [
      "### Armadillo, simple examples"
     ]
    },
    {
     "cell_type": "markdown",
     "metadata": {},
     "source": [
      "          // maximum from each row (traverse along columns)\n",
      "          cout << \"max(B,1) =\" << endl;\n",
      "          cout << max(B,1) << endl;\n",
      "          // maximum value in B\n",
      "          cout << \"max(max(B)) = \" << max(max(B)) << endl;\n",
      "          // sum of each column (traverse along rows)\n",
      "          cout << \"sum(B) =\" << endl;\n",
      "          cout << sum(B) << endl;\n",
      "          // sum of each row (traverse along columns)\n",
      "          cout << \"sum(B,1) =\" << endl;\n",
      "          cout << sum(B,1) << endl;\n",
      "          // sum of all elements\n",
      "          cout << \"sum(sum(B)) = \" << sum(sum(B)) << endl;\n",
      "          cout << \"accu(B)     = \" << accu(B) << endl;\n",
      "          // trace = sum along diagonal\n",
      "          cout << \"trace(B)    = \" << trace(B) << endl;\n",
      "          // random matrix -- values are uniformly distributed in the [0,1] interval\n",
      "          mat E = randu<mat>(4,4);\n",
      "          E.print(\"E:\");\n",
      "        \n"
     ]
    },
    {
     "cell_type": "markdown",
     "metadata": {},
     "source": [
      "### Armadillo, simple examples"
     ]
    },
    {
     "cell_type": "markdown",
     "metadata": {},
     "source": [
      "          // row vectors are treated like a matrix with one row\n",
      "          rowvec r;\n",
      "          r << 0.59499 << 0.88807 << 0.88532 << 0.19968;\n",
      "          r.print(\"r:\");\n",
      "        \n",
      "          // column vectors are treated like a matrix with one column\n",
      "          colvec q;\n",
      "          q << 0.81114 << 0.06256 << 0.95989 << 0.73628;\n",
      "          q.print(\"q:\");\n",
      "        \n",
      "          // dot or inner product\n",
      "          cout << \"as_scalar(r*q) = \" << as_scalar(r*q) << endl;\n",
      "        \n",
      "            // outer product\n",
      "          cout << \"q*r =\" << endl;\n",
      "          cout << q*r << endl;\n",
      "        \n",
      "        \n",
      "          // sum of three matrices (no temporary matrices are created)\n",
      "          mat F = B + C + D;\n",
      "          F.print(\"F:\");\n",
      "        \n",
      "            return 0;\n",
      "        \n"
     ]
    },
    {
     "cell_type": "markdown",
     "metadata": {},
     "source": [
      "### Armadillo, simple examples"
     ]
    },
    {
     "cell_type": "markdown",
     "metadata": {},
     "source": [
      "        #include <iostream>\n",
      "        #include \"armadillo\"\n",
      "        using namespace arma;\n",
      "        using namespace std;\n",
      "        \n",
      "        int main(int argc, char** argv)\n",
      "          {\n",
      "          cout << \"Armadillo version: \" << arma_version::as_string() << endl;\n",
      "        \n",
      "          mat A;\n",
      "        \n",
      "          A << 0.165300 << 0.454037 << 0.995795 << 0.124098 << 0.047084 << endr\n",
      "            << 0.688782 << 0.036549 << 0.552848 << 0.937664 << 0.866401 << endr\n",
      "            << 0.348740 << 0.479388 << 0.506228 << 0.145673 << 0.491547 << endr\n",
      "            << 0.148678 << 0.682258 << 0.571154 << 0.874724 << 0.444632 << endr\n",
      "            << 0.245726 << 0.595218 << 0.409327 << 0.367827 << 0.385736 << endr;\n",
      "        \n",
      "          A.print(\"A =\");\n",
      "        \n",
      "          // determinant\n",
      "          cout << \"det(A) = \" << det(A) << endl;\n"
     ]
    },
    {
     "cell_type": "markdown",
     "metadata": {},
     "source": [
      "### Armadillo, simple examples"
     ]
    },
    {
     "cell_type": "markdown",
     "metadata": {},
     "source": [
      "          // inverse\n",
      "          cout << \"inv(A) = \" << endl << inv(A) << endl;\n",
      "          double k = 1.23;\n",
      "        \n",
      "          mat    B = randu<mat>(5,5);\n",
      "          mat    C = randu<mat>(5,5);\n",
      "        \n",
      "          rowvec r = randu<rowvec>(5);\n",
      "          colvec q = randu<colvec>(5);\n",
      "        \n",
      "        \n",
      "          // examples of some expressions\n",
      "          // for which optimised implementations exist\n",
      "          // optimised implementation of a trinary expression\n",
      "          // that results in a scalar\n",
      "          cout << \"as_scalar( r*inv(diagmat(B))*q ) = \";\n",
      "          cout << as_scalar( r*inv(diagmat(B))*q ) << endl;\n",
      "        \n",
      "          // example of an expression which is optimised\n",
      "          // as a call to the dgemm() function in BLAS:\n",
      "          cout << \"k*trans(B)*C = \" << endl << k*trans(B)*C;\n",
      "        \n",
      "            return 0;\n",
      "        \n"
     ]
    },
    {
     "cell_type": "markdown",
     "metadata": {},
     "source": [
      "### Gaussian Elimination\n",
      "\n",
      "We start with the linear set of equations"
     ]
    },
    {
     "cell_type": "markdown",
     "metadata": {},
     "source": [
      "$$\n",
      "{\\bf A}{\\bf x} = {\\bf w}.\n",
      "$$"
     ]
    },
    {
     "cell_type": "markdown",
     "metadata": {},
     "source": [
      "We assume also that the matrix ${\\bf A}$ is non-singular and that the\n",
      "matrix elements along the diagonal satisfy $a_{ii} \\ne 0$. Simple $4\\times 4 $ example"
     ]
    },
    {
     "cell_type": "markdown",
     "metadata": {},
     "source": [
      "$$\n",
      "\\left(\\begin{array}{cccc}\n",
      "                           a_{11}& a_{12} &a_{13}& a_{14}\\\\\n",
      "                           a_{21}& a_{22} &a_{23}& a_{24}\\\\\n",
      "                           a_{31}& a_{32} &a_{33}& a_{34}\\\\\n",
      "                           a_{41}& a_{42} &a_{43}& a_{44}\\\\\n",
      "                      \\end{array} \\right)\\left(\\begin{array}{c}\n",
      "                           x_1\\\\\n",
      "                           x_2\\\\\n",
      "                           x_3 \\\\\n",
      "                           x_4  \\\\\n",
      "                      \\end{array} \\right)\n",
      "  =\\left(\\begin{array}{c}\n",
      "                           w_1\\\\\n",
      "                           w_2\\\\\n",
      "                           w_3 \\\\\n",
      "                           w_4\\\\\n",
      "                      \\end{array} \\right).\n",
      "$$"
     ]
    },
    {
     "cell_type": "markdown",
     "metadata": {},
     "source": [
      "or"
     ]
    },
    {
     "cell_type": "markdown",
     "metadata": {},
     "source": [
      "$$\n",
      "\\begin{equation}\n",
      " a_{11}x_1 +a_{12}x_2 +a_{13}x_3 + a_{14}x_4=w_1 \\nonumber \n",
      "\\end{equation}\n",
      "$$"
     ]
    },
    {
     "cell_type": "markdown",
     "metadata": {},
     "source": [
      "$$\n",
      "\\begin{equation} \n",
      "a_{21}x_1 + a_{22}x_2 + a_{23}x_3 + a_{24}x_4=w_2 \\nonumber \n",
      "\\end{equation}\n",
      "$$"
     ]
    },
    {
     "cell_type": "markdown",
     "metadata": {},
     "source": [
      "$$\n",
      "\\begin{equation} \n",
      "a_{31}x_1 + a_{32}x_2 + a_{33}x_3 + a_{34}x_4=w_3 \\nonumber \n",
      "\\end{equation}\n",
      "$$"
     ]
    },
    {
     "cell_type": "markdown",
     "metadata": {},
     "source": [
      "$$\n",
      "\\begin{equation} \n",
      "a_{41}x_1 + a_{42}x_2 + a_{43}x_3 + a_{44}x_4=w_4. \\nonumber\n",
      "\\end{equation}\n",
      "$$"
     ]
    },
    {
     "cell_type": "markdown",
     "metadata": {},
     "source": [
      "### Gaussian Elimination\n",
      "\n",
      "The basic idea of Gaussian elimination is to use the first equation to eliminate the first unknown $x_1$\n",
      "from the remaining $n-1$ equations. Then we use the new second equation to eliminate the second unknown\n",
      "$x_2$ from the remaining $n-2$ equations. With $n-1$ such eliminations\n",
      "we obtain a so-called upper triangular set of equations of the form"
     ]
    },
    {
     "cell_type": "markdown",
     "metadata": {},
     "source": [
      "<!-- Equation labels as ordinary links -->\n",
      "<div id=\"eq:gaussbacksub\"></div>\n",
      "\n",
      "$$\n",
      "\\begin{equation}\\label{eq:gaussbacksub} \\tag{6}\n",
      " b_{11}x_1 +b_{12}x_2 +b_{13}x_3 + b_{14}x_4=y_1 \\nonumber \n",
      "\\end{equation}\n",
      "$$"
     ]
    },
    {
     "cell_type": "markdown",
     "metadata": {},
     "source": [
      "$$\n",
      "\\begin{equation} \n",
      " b_{22}x_2 + b_{23}x_3 + b_{24}x_4=y_2 \\nonumber \n",
      "\\end{equation}\n",
      "$$"
     ]
    },
    {
     "cell_type": "markdown",
     "metadata": {},
     "source": [
      "$$\n",
      "\\begin{equation} \n",
      "b_{33}x_3 + b_{34}x_4=y_3 \\nonumber \n",
      "\\end{equation}\n",
      "$$"
     ]
    },
    {
     "cell_type": "markdown",
     "metadata": {},
     "source": [
      "$$\n",
      "\\begin{equation} \n",
      "b_{44}x_4=y_4. \\nonumber\n",
      "\\end{equation}\n",
      "$$"
     ]
    },
    {
     "cell_type": "markdown",
     "metadata": {},
     "source": [
      "We can solve this system of equations recursively starting from $x_n$ (in our case $x_4$) and proceed with\n",
      "what is called a backward substitution. This process can be expressed mathematically as"
     ]
    },
    {
     "cell_type": "markdown",
     "metadata": {},
     "source": [
      "$$\n",
      "\\begin{equation}\n",
      "   x_m = \\frac{1}{b_{mm}}\\left(y_m-\\sum_{k=m+1}^nb_{mk}x_k\\right)\\quad m=n-1,n-2,\\dots,1.\n",
      "\\end{equation}\n",
      "$$"
     ]
    },
    {
     "cell_type": "markdown",
     "metadata": {},
     "source": [
      "To arrive at such an upper triangular system of equations, we start by eliminating\n",
      "the unknown $x_1$ for $j=2,n$. We achieve this by multiplying the first equation by $a_{j1}/a_{11}$ and then subtract\n",
      "the result from the $j$th equation. We assume obviously that $a_{11}\\ne 0$ and that\n",
      "${\\bf A}$ is not singular.\n",
      "\n",
      "### Gaussian Elimination\n",
      "\n",
      "Our actual $4\\times 4$ example reads after the first operation"
     ]
    },
    {
     "cell_type": "markdown",
     "metadata": {},
     "source": [
      "$$\n",
      "\\left(\\begin{array}{cccc}\n",
      "                           a_{11}& a_{12} &a_{13}& a_{14}\\\\\n",
      "                           0& (a_{22}-\\frac{a_{21}a_{12}}{a_{11}}) &(a_{23}-\\frac{a_{21}a_{13}}{a_{11}}) & (a_{24}-\\frac{a_{21}a_{14}}{a_{11}})\\\\\n",
      "0& (a_{32}-\\frac{a_{31}a_{12}}{a_{11}})& (a_{33}-\\frac{a_{31}a_{13}}{a_{11}})& (a_{34}-\\frac{a_{31}a_{14}}{a_{11}})\\\\\n",
      "0&(a_{42}-\\frac{a_{41}a_{12}}{a_{11}}) &(a_{43}-\\frac{a_{41}a_{13}}{a_{11}}) & (a_{44}-\\frac{a_{41}a_{14}}{a_{11}}) \\\\\n",
      "                      \\end{array} \\right)\\left(\\begin{array}{c}\n",
      "                           x_1\\\\\n",
      "                           x_2\\\\\n",
      "                           x_3 \\\\\n",
      "                           x_4  \\\\\n",
      "                      \\end{array} \\right)\n",
      "  =\\left(\\begin{array}{c}\n",
      "                           y_1\\\\\n",
      "                           w_2^{(2)}\\\\\n",
      "                           w_3^{(2)} \\\\\n",
      "                           w_4^{(2)}\\\\\n",
      "                      \\end{array} \\right),\n",
      "$$"
     ]
    },
    {
     "cell_type": "markdown",
     "metadata": {},
     "source": [
      "or"
     ]
    },
    {
     "cell_type": "markdown",
     "metadata": {},
     "source": [
      "$$\n",
      "\\begin{equation}\n",
      " b_{11}x_1 +b_{12}x_2 +b_{13}x_3 + b_{14}x_4=y_1 \\nonumber \n",
      "\\end{equation}\n",
      "$$"
     ]
    },
    {
     "cell_type": "markdown",
     "metadata": {},
     "source": [
      "$$\n",
      "\\begin{equation} \n",
      " a^{(2)}_{22}x_2 + a^{(2)}_{23}x_3 + a^{(2)}_{24}x_4=w^{(2)}_2 \\nonumber \n",
      "\\end{equation}\n",
      "$$"
     ]
    },
    {
     "cell_type": "markdown",
     "metadata": {},
     "source": [
      "$$\n",
      "\\begin{equation} \n",
      " a^{(2)}_{32}x_2 + a^{(2)}_{33}x_3 + a^{(2)}_{34}x_4=w^{(2)}_3 \\nonumber \n",
      "\\end{equation}\n",
      "$$"
     ]
    },
    {
     "cell_type": "markdown",
     "metadata": {},
     "source": [
      "$$\n",
      "\\begin{equation} \n",
      " a^{(2)}_{42}x_2 + a^{(2)}_{43}x_3 + a^{(2)}_{44}x_4=w^{(2)}_4, \\nonumber \n",
      "\\end{equation}\n",
      "$$"
     ]
    },
    {
     "cell_type": "markdown",
     "metadata": {},
     "source": [
      "$$\n",
      "\\begin{equation} \n",
      "\\end{equation}\n",
      "$$"
     ]
    },
    {
     "cell_type": "markdown",
     "metadata": {},
     "source": [
      "### Gaussian Elimination\n",
      "\n",
      "The new coefficients are"
     ]
    },
    {
     "cell_type": "markdown",
     "metadata": {},
     "source": [
      "$$\n",
      "\\begin{equation}\n",
      "   b_{1k} = a_{1k}^{(1)} \\quad k=1,\\dots,n,\n",
      "\\end{equation}\n",
      "$$"
     ]
    },
    {
     "cell_type": "markdown",
     "metadata": {},
     "source": [
      "where each $a_{1k}^{(1)}$ is equal to the original $a_{1k}$ element. The other coefficients are"
     ]
    },
    {
     "cell_type": "markdown",
     "metadata": {},
     "source": [
      "$$\n",
      "\\begin{equation}\n",
      "a_{jk}^{(2)} = a_{jk}^{(1)}-\\frac{a_{j1}^{(1)}a_{1k}^{(1)}}{a_{11}^{(1)}} \\quad j,k=2,\\dots,n,\n",
      "\\end{equation}\n",
      "$$"
     ]
    },
    {
     "cell_type": "markdown",
     "metadata": {},
     "source": [
      "with a new right-hand side given by"
     ]
    },
    {
     "cell_type": "markdown",
     "metadata": {},
     "source": [
      "$$\n",
      "\\begin{equation}\n",
      "y_{1}=w_1^{(1)}, \\quad w_j^{(2)} =w_j^{(1)}-\\frac{a_{j1}^{(1)}w_1^{(1)}}{a_{11}^{(1)}} \\quad j=2,\\dots,n.\n",
      "\\end{equation}\n",
      "$$"
     ]
    },
    {
     "cell_type": "markdown",
     "metadata": {},
     "source": [
      "We have also set $w_1^{(1)}=w_1$, the original vector element.\n",
      "We see that the system of unknowns $x_1,\\dots,x_n$ is transformed into an $(n-1)\\times (n-1)$ problem.\n",
      "\n",
      "### Gaussian Elimination\n",
      "\n",
      "This step is called forward substitution.\n",
      "Proceeding with these substitutions, we obtain the\n",
      "general expressions for the new coefficients"
     ]
    },
    {
     "cell_type": "markdown",
     "metadata": {},
     "source": [
      "$$\n",
      "\\begin{equation}\n",
      "   a_{jk}^{(m+1)} = a_{jk}^{(m)}-\\frac{a_{jm}^{(m)}a_{mk}^{(m)}}{a_{mm}^{(m)}} \\quad j,k=m+1,\\dots,n,\n",
      "\\end{equation}\n",
      "$$"
     ]
    },
    {
     "cell_type": "markdown",
     "metadata": {},
     "source": [
      "with $m=1,\\dots,n-1$ and a\n",
      "right-hand side given by"
     ]
    },
    {
     "cell_type": "markdown",
     "metadata": {},
     "source": [
      "$$\n",
      "\\begin{equation}\n",
      "   w_j^{(m+1)} =w_j^{(m)}-\\frac{a_{jm}^{(m)}w_m^{(m)}}{a_{mm}^{(m)}}\\quad j=m+1,\\dots,n.\n",
      "\\end{equation}\n",
      "$$"
     ]
    },
    {
     "cell_type": "markdown",
     "metadata": {},
     "source": [
      "This set of $n-1$ elimations leads us to an equations which is solved by back substitution.\n",
      "If the arithmetics is exact and the matrix ${\\bf A}$ is not singular, then the computed answer will be exact.\n",
      "\n",
      "Even though the matrix elements along the diagonal are not zero,\n",
      "numerically small numbers may appear and subsequent divisions may lead to large numbers, which, if added\n",
      "to a small number may yield losses of precision. Suppose for example that our first division in $(a_{22}-a_{21}a_{12}/a_{11})$\n",
      "results in $-10^{-7}$ and that $a_{22}$ is one.\n",
      "one. We are then\n",
      "adding $10^7+1$. With single precision this results in $10^7$.\n",
      "\n",
      "### Gaussian Elimination and Tridiagonal matrices, project 1\n",
      "\n",
      "Suppose we want to solve the following boundary value equation"
     ]
    },
    {
     "cell_type": "markdown",
     "metadata": {},
     "source": [
      "$$\n",
      "-\\frac{d^2u(x)}{dx^2} = f(x,u(x)),\n",
      "$$"
     ]
    },
    {
     "cell_type": "markdown",
     "metadata": {},
     "source": [
      "with $x\\in (a,b)$ and with boundary conditions $u(a)=u(b) = 0$.\n",
      "We assume that $f$ is a continuous function in the domain $x\\in (a,b)$.\n",
      "Since, except the few cases where it is possible to find analytic solutions, we\n",
      "will seek after approximate solutions, we choose to represent the approximation to the second derivative\n",
      "from the previous chapter"
     ]
    },
    {
     "cell_type": "markdown",
     "metadata": {},
     "source": [
      "$$\n",
      "f''=\\frac{f_h -2f_0 +f_{-h}}{h^2} +O(h^2).\n",
      "$$"
     ]
    },
    {
     "cell_type": "markdown",
     "metadata": {},
     "source": [
      "We subdivide our interval $x\\in (a,b)$ into $n$ subintervals by setting $x_i = ih$, with $i=0,1,\\dots,n+1$.\n",
      "The step size is then given by $h=(b-a)/(n+1)$ with $n\\in {\\mathbb{N}}$.\n",
      "For the internal grid points $i=1,2,\\dots n$ we replace the differential operator with the above formula\n",
      "resulting in"
     ]
    },
    {
     "cell_type": "markdown",
     "metadata": {},
     "source": [
      "$$\n",
      "u''(x_i) \\approx  \\frac{u(x_i+h) -2u(x_i) +u(x_i-h)}{h^2},\n",
      "$$"
     ]
    },
    {
     "cell_type": "markdown",
     "metadata": {},
     "source": [
      "which we rewrite as"
     ]
    },
    {
     "cell_type": "markdown",
     "metadata": {},
     "source": [
      "$$\n",
      "u^{''}_i \\approx  \\frac{u_{i+1} -2u_i +u_{i-i}}{h^2}.\n",
      "$$"
     ]
    },
    {
     "cell_type": "markdown",
     "metadata": {},
     "source": [
      "### Gaussian Elimination and Tridiagonal matrices, project 1\n",
      "\n",
      "We can rewrite our original differential equation in terms of a discretized equation with approximations to the\n",
      "derivatives as"
     ]
    },
    {
     "cell_type": "markdown",
     "metadata": {},
     "source": [
      "$$\n",
      "-\\frac{u_{i+1} -2u_i +u_{i-i}}{h^2}=f(x_i,u(x_i)),\n",
      "$$"
     ]
    },
    {
     "cell_type": "markdown",
     "metadata": {},
     "source": [
      "with $i=1,2,\\dots, n$. We need to add to this system the two boundary conditions $u(a) =u_0$ and $u(b) = u_{n+1}$.\n",
      "If we define a matrix"
     ]
    },
    {
     "cell_type": "markdown",
     "metadata": {},
     "source": [
      "$$\n",
      "{\\bf A} = \\frac{1}{h^2}\\left(\\begin{array}{cccccc}\n",
      "                          2 & -1 &  &   &  & \\\\\n",
      "                          -1 & 2 & -1 & & & \\\\\n",
      "                           & -1 & 2 & -1 & &  \\\\\n",
      "                           & \\dots   & \\dots &\\dots   &\\dots & \\dots \\\\\n",
      "                           &   &  &-1  &2& -1 \\\\\n",
      "                           &    &  &   &-1 & 2 \\\\\n",
      "                      \\end{array} \\right)\n",
      "$$"
     ]
    },
    {
     "cell_type": "markdown",
     "metadata": {},
     "source": [
      "and the corresponding vectors ${\\bf u} = (u_1, u_2, \\dots,u_n)^T$ and\n",
      "${\\bf f}({\\bf u}) = f(x_1,x_2,\\dots, x_n,u_1, u_2, \\dots,u_n)^T$  we can rewrite the differential equation\n",
      "including the boundary conditions as a system of linear equations with  a large number of unknowns"
     ]
    },
    {
     "cell_type": "markdown",
     "metadata": {},
     "source": [
      "$$\n",
      "{\\bf A}{\\bf u} = {\\bf f}({\\bf u}).\n",
      "$$"
     ]
    },
    {
     "cell_type": "markdown",
     "metadata": {},
     "source": [
      "### Gaussian Elimination and Tridiagonal matrices, project 1\n",
      "\n",
      "We start with the linear set of equations"
     ]
    },
    {
     "cell_type": "markdown",
     "metadata": {},
     "source": [
      "$$\n",
      "{\\bf A}{\\bf u} = {\\bf f},\n",
      "$$"
     ]
    },
    {
     "cell_type": "markdown",
     "metadata": {},
     "source": [
      "where ${\\bf A}$ is a tridiagonal matrix which we rewrite as"
     ]
    },
    {
     "cell_type": "markdown",
     "metadata": {},
     "source": [
      "$$\n",
      "{\\bf A} = \\left(\\begin{array}{cccccc}\n",
      "                           b_1& c_1 & 0 &\\dots   & \\dots &\\dots \\\\\n",
      "                           a_2 & b_2 & c_2 &\\dots &\\dots &\\dots \\\\\n",
      "                           & a_3 & b_3 & c_3 & \\dots & \\dots \\\\\n",
      "                           & \\dots   & \\dots &\\dots   &\\dots & \\dots \\\\\n",
      "                           &   &  &a_{n-2}  &b_{n-1}& c_{n-1} \\\\\n",
      "                           &    &  &   &a_n & b_n \\\\\n",
      "                      \\end{array} \\right)\n",
      "$$"
     ]
    },
    {
     "cell_type": "markdown",
     "metadata": {},
     "source": [
      "where $a,b,c$ are one-dimensional arrays of length $1:n$.\n",
      "In project 1 the arrays $a$ and $c$ are equal, namely $a_i=c_i=-1/h^2$.\n",
      "The matrix is  also positive definite.\n",
      "\n",
      "### Gaussian Elimination and Tridiagonal matrices, project 1\n",
      "\n",
      "We can rewrite as"
     ]
    },
    {
     "cell_type": "markdown",
     "metadata": {},
     "source": [
      "$$\n",
      "{\\bf A} = \\left(\\begin{array}{cccccc}\n",
      "                           b_1& c_1 & 0 &\\dots   & \\dots &\\dots \\\\\n",
      "                           a_2 & b_2 & c_2 &\\dots &\\dots &\\dots \\\\\n",
      "                           & a_3 & b_3 & c_3 & \\dots & \\dots \\\\\n",
      "                           & \\dots   & \\dots &\\dots   &\\dots & \\dots \\\\\n",
      "                           &   &  &a_{n-2}  &b_{n-1}& c_{n-1} \\\\\n",
      "                           &    &  &   &a_n & b_n \\\\\n",
      "                      \\end{array} \\right)\\left(\\begin{array}{c}\n",
      "                           u_1\\\\\n",
      "                           u_2\\\\\n",
      "                           \\dots \\\\\n",
      "                          \\dots  \\\\\n",
      "                          \\dots \\\\\n",
      "                           u_n\\\\\n",
      "                      \\end{array} \\right)\n",
      "  =\\left(\\begin{array}{c}\n",
      "                           f_1\\\\\n",
      "                           f_2\\\\\n",
      "                           \\dots \\\\\n",
      "                           \\dots \\\\\n",
      "                          \\dots \\\\\n",
      "                           f_n\\\\\n",
      "                      \\end{array} \\right).\n",
      "$$"
     ]
    },
    {
     "cell_type": "markdown",
     "metadata": {},
     "source": [
      "### Gaussian Elimination and Tridiagonal matrices, project 1\n",
      "\n",
      "A tridiagonal matrix is a special form of banded matrix where all the elements are zero except for\n",
      "those on and immediately above and below the leading diagonal.\n",
      "The above tridiagonal system   can be written as"
     ]
    },
    {
     "cell_type": "markdown",
     "metadata": {},
     "source": [
      "$$\n",
      "a_iu_{i-1}+b_iu_i+c_iu_{i+1} = f_i,\n",
      "$$"
     ]
    },
    {
     "cell_type": "markdown",
     "metadata": {},
     "source": [
      "for $i=1,2,\\dots,n$. We see that $u_{-1}$ and $u_{n+1}$ are not required and we can set $a_1=c_n=0$.\n",
      "In many applications the matrix is symmetric and we have $a_i=c_i$.\n",
      "The algorithm for solving this set of equations is rather simple and requires two steps only,\n",
      "a forward substitution and a backward substitution. These steps are also\n",
      "common to the algorithms based on\n",
      "Gaussian elimination that\n",
      "we discussed previously. However, due to its simplicity, the number of floating point operations\n",
      "is in this\n",
      "case proportional with $O(n)$ while Gaussian elimination requires $2n^3/3+O(n^2)$ floating point operations.\n",
      "\n",
      "### Gaussian Elimination and Tridiagonal matrices, project 1\n",
      "\n",
      "In case your system of equations leads to a tridiagonal matrix, it is clearly an overkill to employ\n",
      "Gaussian elimination or the standard LU decomposition.\n",
      "You will encounter several applications involving tridiagonal matrices in our discussion of\n",
      "partial differential equations in chapter 10.\n",
      "\n",
      "Our algorithm starts with forward substitution with a loop over of the elements $i$ and can be expressed via the\n",
      "following piece of code"
     ]
    },
    {
     "cell_type": "markdown",
     "metadata": {},
     "source": [
      "           btemp = b[1];\n",
      "           u[1] = f[1]/btemp;\n",
      "           for(i=2 ; i <= n ; i++) {\n",
      "              temp[i] = c[i-1]/btemp;\n",
      "              btemp = b[i]-a[i]*temp[i];\n",
      "              u[i] = (f[i] - a[i]*u[i-1])/btemp;\n",
      "        \n"
     ]
    },
    {
     "cell_type": "markdown",
     "metadata": {},
     "source": [
      "### Gaussian Elimination and Tridiagonal matrices, project 1\n",
      "\n",
      "Note that you should avoid cases with $b_1=0$. If that is the case, you should rewrite the equations\n",
      "as a set of order $n-1$ with $u_2$ eliminated.\n",
      "Finally we perform the backsubstitution leading to the following code"
     ]
    },
    {
     "cell_type": "markdown",
     "metadata": {},
     "source": [
      "           for(i=n-1 ; i >= 1 ; i--) {\n",
      "              u[i] -= temp[i+1]*u[i+1];\n",
      "        \n"
     ]
    },
    {
     "cell_type": "markdown",
     "metadata": {},
     "source": [
      "### Gaussian Elimination and Tridiagonal matrices, project 1\n",
      "\n",
      "Note that our sums start with $i=1$ and that one  should avoid cases with $b_1=0$. If that is the case, you should rewrite the equations\n",
      "as a set of order $n-1$ with $u_2$ eliminated. However, a tridiagonal matrix problem is not a guarantee that we\n",
      "can find a solution. The matrix ${\\bf A}$ which rephrases a second derivative in a discretized form"
     ]
    },
    {
     "cell_type": "markdown",
     "metadata": {},
     "source": [
      "$$\n",
      "{\\bf A} = \\left(\\begin{array}{cccccc}\n",
      "                          2 & -1 & 0 & 0  &0  & 0\\\\\n",
      "                          -1 & 2 & -1 &0 &0 &0 \\\\\n",
      "                          0 & -1 & 2 & -1 & 0& 0 \\\\\n",
      "                          0 & \\dots   & \\dots & \\dots   &\\dots & \\dots \\\\\n",
      "                          0 &0   &0  &-1  &2& -1 \\\\\n",
      "                          0 &  0  &0  &0   &-1 & 2 \\\\\n",
      "                      \\end{array} \\right),\n",
      "$$"
     ]
    },
    {
     "cell_type": "markdown",
     "metadata": {},
     "source": [
      "fulfills the condition of a weak dominance of the diagonal, with\n",
      "$|b_1| > |c_1|$, $|b_n| > |a_n|$ and  $|b_k| \\ge |a_k|+|c_k|$ for $k=2,3,\\dots,n-1$.\n",
      "This is a relevant but not sufficient condition to guarantee that the matrix ${\\bf A}$ yields a solution to a linear\n",
      "equation problem. The matrix needs also to be irreducible. A tridiagonal irreducible matrix means that all the elements $a_i$ and\n",
      "$c_i$ are non-zero. If these two conditions are present, then ${\\bf A}$ is nonsingular and has a unique LU decomposition.\n",
      "\n",
      "### Project 1, hints\n",
      "\n",
      "When setting up the algo it is useful to note that the different\n",
      "operations on the matrix (here as a $4\\times 4$ case  with diagonals\n",
      "$d_i$ and off-diagonals $e_i$"
     ]
    },
    {
     "cell_type": "markdown",
     "metadata": {},
     "source": [
      "$$\n",
      "\\left(\\begin{array}{cccc}\n",
      "                          d_1 & e_1 & 0 & 0 \\\\\n",
      "                          e_1 & d_2 & e_2 & 0 \\\\\n",
      "                          0 & e_2 & d_3 & e_3 \\\\\n",
      "                          0 & 0 & e_3 & d_4\n",
      "                      \\end{array} \\right)\\rightarrow\n",
      "   \\left(\\begin{array}{cccc}\n",
      "                          d_1 & e_1 & 0 & 0 \\\\\n",
      "                          0 & \\tilde{d}_2 & e_2 & 0 \\\\\n",
      "                          0 & e_2 & d_3 & e_3 \\\\\n",
      "                          0 & 0 & e_3 & d_4\n",
      "                      \\end{array} \\right)\\rightarrow\n",
      "   \\left(\\begin{array}{cccc}\n",
      "                          d_1 & e_1 & 0 & 0 \\\\\n",
      "                          0 & \\tilde{d}_2 & e_2 & 0 \\\\\n",
      "                          0 & 0 & \\tilde{d}_3 & e_3 \\\\\n",
      "                          0 & 0 & e_3 & d_4\n",
      "                      \\end{array} \\right)\n",
      "$$"
     ]
    },
    {
     "cell_type": "markdown",
     "metadata": {},
     "source": [
      "and finally"
     ]
    },
    {
     "cell_type": "markdown",
     "metadata": {},
     "source": [
      "$$\n",
      "\\left(\\begin{array}{cccc}\n",
      "                          d_1 & e_1 & 0 & 0 \\\\\n",
      "                          0 & \\tilde{d}_2 & e_2 & 0 \\\\\n",
      "                          0 & 0 & \\tilde{d}_3 & e_3 \\\\\n",
      "                          0 & 0 & 0 & \\tilde{d}_4\n",
      "                      \\end{array} \\right)\n",
      "$$"
     ]
    },
    {
     "cell_type": "markdown",
     "metadata": {},
     "source": [
      "### Project 1, hints\n",
      "\n",
      "We notice the sub-blocks which get repeated"
     ]
    },
    {
     "cell_type": "markdown",
     "metadata": {},
     "source": [
      "$$\n",
      "\\left(\\begin{array}{cccc}\n",
      "                          d_1 & e_1 & 0 & 0 \\\\\n",
      "                          0 & \\tilde{d}_2 & e_2 & 0 \\\\\n",
      "                          0 & 0 & \\tilde{d}_3 & e_3 \\\\\n",
      "                          0 & 0 & 0 & \\tilde{d}_4\n",
      "                      \\end{array} \\right)\n",
      "$$"
     ]
    },
    {
     "cell_type": "markdown",
     "metadata": {},
     "source": [
      "The matrices we often end up with in rewriting for for example partial differential equations,\n",
      "have the feature that all leading principal submatrices are non-singular. If the matrix\n",
      "is symmetric as well it can be rewritten as $A=LDL^T$ with $D$ the diagonal and we have the\n",
      "following relations\n",
      "$a_{11} = d_1$, $a_{k,k-1}=e_{k-1}d_{k-1}$ for $k=2,\\dots,n$ and finally"
     ]
    },
    {
     "cell_type": "markdown",
     "metadata": {},
     "source": [
      "$$\n",
      "a_{kk} = d_k+e_{k-1}^2d_{k-1}=d_k+e_{k-1}a_{k,k-1}\n",
      "$$"
     ]
    },
    {
     "cell_type": "markdown",
     "metadata": {},
     "source": [
      "for $k=2,\\dots,n$.\n",
      "\n",
      "### Linear Algebra Methods\n",
      "\n",
      "  * Gaussian elimination, $O(2/3n^3)$ flops, general matrix\n",
      "\n",
      "  * LU decomposition, upper triangular and lower tridiagonal matrices, $O(2/3n^3)$ flops, general matrix. Get easily the inverse, determinant and can solve linear equations with back-substitution only, $O(n^2)$ flops\n",
      "\n",
      "  * Cholesky decomposition $A=LL^T$. Real symmetric or hermitian positive definite matrix, $O(1/3n^3)$ flops.\n",
      "\n",
      "  * Tridiagonal linear systems, important for differential equations. Normally positive definite and non-singular. $O(8n)$ flops for symmetric. $A=LDL^T$ with $D$ the diagonal. Special case of banded matrices.\n",
      "\n",
      "  * Singular value decomposition\n",
      "\n",
      "  * the QR method will be discussed in chapter 7 in connection with eigenvalue systems. $O(4/3n^3)$ flops. !split\n",
      "\n",
      "### LU Decomposition\n",
      "\n",
      "The LU decomposition method means that we can rewrite\n",
      "this matrix as the product of two matrices ${\\bf L}$ and ${\\bf U}$\n",
      "where"
     ]
    },
    {
     "cell_type": "markdown",
     "metadata": {},
     "source": [
      "<!-- Equation labels as ordinary links -->\n",
      "<div id=\"eq3\"></div>\n",
      "\n",
      "$$\n",
      "\\label{eq3} \\tag{7}\n",
      "   \\left(\\begin{array}{cccc}\n",
      "                          a_{11} & a_{12} & a_{13} & a_{14} \\\\\n",
      "                          a_{21} & a_{22} & a_{23} & a_{24} \\\\\n",
      "                          a_{31} & a_{32} & a_{33} & a_{34} \\\\\n",
      "                          a_{41} & a_{42} & a_{43} & a_{44}\n",
      "                      \\end{array} \\right)\n",
      "                      = \\left( \\begin{array}{cccc}\n",
      "                              1  & 0      & 0      & 0 \\\\\n",
      "                          l_{21} & 1      & 0      & 0 \\\\\n",
      "                          l_{31} & l_{32} & 1      & 0 \\\\\n",
      "                          l_{41} & l_{42} & l_{43} & 1\n",
      "                      \\end{array} \\right)\n",
      "                        \\left( \\begin{array}{cccc}\n",
      "                          u_{11} & u_{12} & u_{13} & u_{14} \\\\\n",
      "                               0 & u_{22} & u_{23} & u_{24} \\\\\n",
      "                               0 & 0      & u_{33} & u_{34} \\\\\n",
      "                               0 & 0      &  0     & u_{44}\n",
      "             \\end{array} \\right).\n",
      "$$"
     ]
    },
    {
     "cell_type": "markdown",
     "metadata": {},
     "source": [
      "LU decomposition forms the backbone of other algorithms in linear algebra, such as the\n",
      "solution of linear equations given by"
     ]
    },
    {
     "cell_type": "markdown",
     "metadata": {},
     "source": [
      "$$\n",
      "\\begin{equation}\n",
      " a_{11}x_1 +a_{12}x_2 +a_{13}x_3 + a_{14}x_4=w_1 \\nonumber \n",
      "\\end{equation}\n",
      "$$"
     ]
    },
    {
     "cell_type": "markdown",
     "metadata": {},
     "source": [
      "$$\n",
      "\\begin{equation} \n",
      "a_{21}x_1 + a_{22}x_2 + a_{23}x_3 + a_{24}x_4=w_2 \\nonumber \n",
      "\\end{equation}\n",
      "$$"
     ]
    },
    {
     "cell_type": "markdown",
     "metadata": {},
     "source": [
      "$$\n",
      "\\begin{equation} \n",
      "a_{31}x_1 + a_{32}x_2 + a_{33}x_3 + a_{34}x_4=w_3 \\nonumber \n",
      "\\end{equation}\n",
      "$$"
     ]
    },
    {
     "cell_type": "markdown",
     "metadata": {},
     "source": [
      "$$\n",
      "\\begin{equation} \n",
      "a_{41}x_1 + a_{42}x_2 + a_{43}x_3 + a_{44}x_4=w_4.  \\nonumber\n",
      "\\end{equation}\n",
      "$$"
     ]
    },
    {
     "cell_type": "markdown",
     "metadata": {},
     "source": [
      "The above set of equations is conveniently solved by using LU decomposition as an intermediate step.\n",
      "\n",
      "The matrix ${\\bf A}\\in \\mathbb{R}^{n\\times n}$ has an LU factorization if the determinant\n",
      "is different from zero. If the LU factorization exists and ${\\bf A}$ is non-singular, then the LU factorization\n",
      "is unique and the determinant is given by"
     ]
    },
    {
     "cell_type": "markdown",
     "metadata": {},
     "source": [
      "$$\n",
      "det\\{{\\bf A}\\}=det\\{{\\bf LU}\\}= det\\{{\\bf L}\\}det\\{{\\bf U}\\}=u_{11}u_{22}\\dots u_{nn}.\n",
      "$$"
     ]
    },
    {
     "cell_type": "markdown",
     "metadata": {},
     "source": [
      "### LU Decomposition, why?\n",
      "\n",
      "There are at least three main advantages with LU decomposition compared with standard Gaussian elimination:\n",
      "\n",
      "  * It is straightforward to compute the determinant of a matrix\n",
      "\n",
      "  * If we have to solve sets of linear equations with the same matrix but with different vectors ${\\bf y}$, the number of FLOPS is of the order $n^3$.\n",
      "\n",
      "  * The invers is such an operation !split\n",
      "\n",
      "### LU Decomposition, linear equations\n",
      "\n",
      "With the LU decomposition it is rather\n",
      "simple to solve a system of linear equations"
     ]
    },
    {
     "cell_type": "markdown",
     "metadata": {},
     "source": [
      "$$\n",
      "\\begin{equation}\n",
      " a_{11}x_1 +a_{12}x_2 +a_{13}x_3 + a_{14}x_4=w_1 \\nonumber \n",
      "\\end{equation}\n",
      "$$"
     ]
    },
    {
     "cell_type": "markdown",
     "metadata": {},
     "source": [
      "$$\n",
      "\\begin{equation} \n",
      "a_{21}x_1 + a_{22}x_2 + a_{23}x_3 + a_{24}x_4=w_2 \\nonumber \n",
      "\\end{equation}\n",
      "$$"
     ]
    },
    {
     "cell_type": "markdown",
     "metadata": {},
     "source": [
      "$$\n",
      "\\begin{equation} \n",
      "a_{31}x_1 + a_{32}x_2 + a_{33}x_3 + a_{34}x_4=w_3 \\nonumber \n",
      "\\end{equation}\n",
      "$$"
     ]
    },
    {
     "cell_type": "markdown",
     "metadata": {},
     "source": [
      "$$\n",
      "\\begin{equation} \n",
      "a_{41}x_1 + a_{42}x_2 + a_{43}x_3 + a_{44}x_4=w_4. \\nonumber\n",
      "\\end{equation}\n",
      "$$"
     ]
    },
    {
     "cell_type": "markdown",
     "metadata": {},
     "source": [
      "This can be written in matrix form as"
     ]
    },
    {
     "cell_type": "markdown",
     "metadata": {},
     "source": [
      "$$\n",
      "{\\bf Ax}={\\bf w}.\n",
      "$$"
     ]
    },
    {
     "cell_type": "markdown",
     "metadata": {},
     "source": [
      "where ${\\bf A}$ and ${\\bf w}$ are known and we have to solve for\n",
      "${\\bf x}$. Using the LU dcomposition we write"
     ]
    },
    {
     "cell_type": "markdown",
     "metadata": {},
     "source": [
      "$$\n",
      "{\\bf A} {\\bf x} \\equiv {\\bf L} {\\bf U} {\\bf x} ={\\bf w}.\n",
      "$$"
     ]
    },
    {
     "cell_type": "markdown",
     "metadata": {},
     "source": [
      "### LU Decomposition, linear equations\n",
      "\n",
      "The previous equation can be calculated in two steps"
     ]
    },
    {
     "cell_type": "markdown",
     "metadata": {},
     "source": [
      "$$\n",
      "{\\bf L} {\\bf y} = {\\bf w};\\qquad {\\bf Ux}={\\bf y}.\n",
      "$$"
     ]
    },
    {
     "cell_type": "markdown",
     "metadata": {},
     "source": [
      "To show that this is correct we use to the LU decomposition\n",
      "to rewrite our system of linear equations as"
     ]
    },
    {
     "cell_type": "markdown",
     "metadata": {},
     "source": [
      "$$\n",
      "{\\bf LUx}={\\bf w},\n",
      "$$"
     ]
    },
    {
     "cell_type": "markdown",
     "metadata": {},
     "source": [
      "and since the determinat of ${\\bf L}$ is equal to 1 (by construction\n",
      "since the diagonals of ${\\bf L}$ equal 1) we can use the inverse of\n",
      "${\\bf L}$ to obtain"
     ]
    },
    {
     "cell_type": "markdown",
     "metadata": {},
     "source": [
      "$$\n",
      "{\\bf Ux}={\\bf L^{-1}w}={\\bf y},\n",
      "$$"
     ]
    },
    {
     "cell_type": "markdown",
     "metadata": {},
     "source": [
      "which yields the intermediate step"
     ]
    },
    {
     "cell_type": "markdown",
     "metadata": {},
     "source": [
      "$$\n",
      "{\\bf L^{-1}w}={\\bf y}\n",
      "$$"
     ]
    },
    {
     "cell_type": "markdown",
     "metadata": {},
     "source": [
      "and as soon as we have ${\\bf y}$ we can obtain ${\\bf x}$\n",
      "through ${\\bf Ux}={\\bf y}$.\n",
      "\n",
      "### LU Decomposition, why?\n",
      "\n",
      "For our four-dimentional example this takes the form"
     ]
    },
    {
     "cell_type": "markdown",
     "metadata": {},
     "source": [
      "$$\n",
      "\\begin{equation}\n",
      " y_1=w_1 \\nonumber\n",
      "\\end{equation}\n",
      "$$"
     ]
    },
    {
     "cell_type": "markdown",
     "metadata": {},
     "source": [
      "$$\n",
      "\\begin{equation} \n",
      "l_{21}y_1 + y_2=w_2\\nonumber \n",
      "\\end{equation}\n",
      "$$"
     ]
    },
    {
     "cell_type": "markdown",
     "metadata": {},
     "source": [
      "$$\n",
      "\\begin{equation} \n",
      "l_{31}y_1 + l_{32}y_2 + y_3 =w_3\\nonumber \n",
      "\\end{equation}\n",
      "$$"
     ]
    },
    {
     "cell_type": "markdown",
     "metadata": {},
     "source": [
      "$$\n",
      "\\begin{equation} \n",
      "l_{41}y_1 + l_{42}y_2 + l_{43}y_3 + y_4=w_4. \\nonumber\n",
      "\\end{equation}\n",
      "$$"
     ]
    },
    {
     "cell_type": "markdown",
     "metadata": {},
     "source": [
      "and"
     ]
    },
    {
     "cell_type": "markdown",
     "metadata": {},
     "source": [
      "$$\n",
      "\\begin{equation}\n",
      " u_{11}x_1 +u_{12}x_2 +u_{13}x_3 + u_{14}x_4=y_1 \\nonumber\n",
      "\\end{equation}\n",
      "$$"
     ]
    },
    {
     "cell_type": "markdown",
     "metadata": {},
     "source": [
      "$$\n",
      "\\begin{equation} \n",
      "u_{22}x_2 + u_{23}x_3 + u_{24}x_4=y_2\\nonumber \n",
      "\\end{equation}\n",
      "$$"
     ]
    },
    {
     "cell_type": "markdown",
     "metadata": {},
     "source": [
      "$$\n",
      "\\begin{equation} \n",
      "u_{33}x_3 + u_{34}x_4=y_3\\nonumber \n",
      "\\end{equation}\n",
      "$$"
     ]
    },
    {
     "cell_type": "markdown",
     "metadata": {},
     "source": [
      "$$\n",
      "\\begin{equation} \n",
      "u_{44}x_4=y_4  \\nonumber\n",
      "\\end{equation}\n",
      "$$"
     ]
    },
    {
     "cell_type": "markdown",
     "metadata": {},
     "source": [
      "This example shows the basis for the algorithm\n",
      "needed to solve the set of $n$ linear equations.\n",
      "\n",
      "### LU Decomposition, linear equations\n",
      "\n",
      "The algorithm goes as follows\n",
      "\n",
      "  * Set up the matrix $\\bf A$ and the vector $\\bf w$ with their correct dimensions. This determines the dimensionality of the unknown vector $\\bf x$.\n",
      "\n",
      "  * Then LU decompose the matrix $\\bf A$ through a call to the function `ludcmp(double a, int n, int indx, double &d)`. This functions returns the LU decomposed matrix $\\bf A$, its determinant and the vector indx which keeps track of the number of interchanges of rows. If the determinant is zero, the solution is malconditioned.\n",
      "\n",
      "  * Thereafter you call the function  `lubksb(double a, int n, int indx, double w)` which uses the LU decomposed matrix $\\bf A$ and the vector $\\bf w$ and returns $\\bf x$ in the same place as $\\bf w$. Upon exit the original content in $\\bf w$ is destroyed. If you wish to keep this information, you should make a backup of it in your calling function.\n",
      "\n",
      "### LU Decomposition, the inverse of a matrix\n",
      "\n",
      "If the inverse exists then"
     ]
    },
    {
     "cell_type": "markdown",
     "metadata": {},
     "source": [
      "$$\n",
      "{\\bf A}^{-1}{\\bf A}={\\bf I},\n",
      "$$"
     ]
    },
    {
     "cell_type": "markdown",
     "metadata": {},
     "source": [
      "the identity matrix. With an LU decomposed matrix we can rewrite the last equation as"
     ]
    },
    {
     "cell_type": "markdown",
     "metadata": {},
     "source": [
      "$$\n",
      "{\\bf LU}{\\bf A}^{-1}={\\bf I}.\n",
      "$$"
     ]
    },
    {
     "cell_type": "markdown",
     "metadata": {},
     "source": [
      "If we assume that the first column (that is column 1) of the inverse matrix\n",
      "can be written as a vector with unknown entries"
     ]
    },
    {
     "cell_type": "markdown",
     "metadata": {},
     "source": [
      "$$\n",
      "{\\bf A}_1^{-1}= \\left( \\begin{array}{c}\n",
      "\n",
      "                              a_{11}^{-1} \\\\\n",
      "                              a_{21}^{-1} \\\\\n",
      "                              \\dots \\\\\n",
      "                              a_{n1}^{-1} \\\\\n",
      "                    \\end{array} \\right),\n",
      "$$"
     ]
    },
    {
     "cell_type": "markdown",
     "metadata": {},
     "source": [
      "then we have a linear set of equations"
     ]
    },
    {
     "cell_type": "markdown",
     "metadata": {},
     "source": [
      "$$\n",
      "{\\bf LU}\\left( \\begin{array}{c}\n",
      "\n",
      "                              a_{11}^{-1} \\\\\n",
      "                              a_{21}^{-1} \\\\\n",
      "                              \\dots \\\\\n",
      "                              a_{n1}^{-1} \\\\\n",
      "                    \\end{array} \\right) =\\left( \\begin{array}{c}\n",
      "                               1 \\\\\n",
      "                              0 \\\\\n",
      "                              \\dots \\\\\n",
      "                              0 \\\\\n",
      "                    \\end{array} \\right).\n",
      "$$"
     ]
    },
    {
     "cell_type": "markdown",
     "metadata": {},
     "source": [
      "### LU Decomposition, the inverse\n",
      "\n",
      "In a similar way we can compute the unknow entries of the second column,"
     ]
    },
    {
     "cell_type": "markdown",
     "metadata": {},
     "source": [
      "$$\n",
      "{\\bf LU}\\left( \\begin{array}{c}\n",
      "\n",
      "                              a_{12}^{-1} \\\\\n",
      "                              a_{22}^{-1} \\\\\n",
      "                              \\dots \\\\\n",
      "                              a_{n2}^{-1} \\\\\n",
      "                    \\end{array} \\right) =\\left( \\begin{array}{c}\n",
      "                                0 \\\\\n",
      "                              1 \\\\\n",
      "                              \\dots \\\\\n",
      "                              0 \\\\\n",
      "                    \\end{array} \\right),\n",
      "$$"
     ]
    },
    {
     "cell_type": "markdown",
     "metadata": {},
     "source": [
      "and continue till we have solved all $n$ sets of linear equations.\n",
      "\n",
      "### How to use the Library functions\n",
      "\n",
      "Standard C/C++: fetch the files `lib.cpp` and `lib.h`. You can make a directory where you store\n",
      "these files, and eventually its compiled version lib.o. The example here is program1.cpp from\n",
      "chapter 6 and performs the matrix inversion."
     ]
    },
    {
     "cell_type": "markdown",
     "metadata": {},
     "source": [
      "        //  Simple matrix inversion example\n",
      "        #include <iostream>\n",
      "        #include <new>\n",
      "        #include <cstdio>\n",
      "        #include <cstdlib>\n",
      "        #include <cmath>\n",
      "        #include <cstring>\n",
      "        #include \"lib.h\"\n",
      "        \n",
      "        using namespace std;\n",
      "        \n",
      "        /* function declarations */\n",
      "        \n",
      "        void inverse(double **, int);\n",
      "        \n"
     ]
    },
    {
     "cell_type": "markdown",
     "metadata": {},
     "source": [
      "### How to use the Library functions"
     ]
    },
    {
     "cell_type": "markdown",
     "metadata": {},
     "source": [
      "        void inverse(double **a, int n)\n",
      "        {\n",
      "          int          i,j, *indx;\n",
      "          double       d, *col, **y;\n",
      "          // allocate space in memory\n",
      "          indx = new int[n];\n",
      "          col  = new double[n];\n",
      "          y    = (double **) matrix(n, n, sizeof(double));\n",
      "          ludcmp(a, n, indx, &d);   // LU decompose  a[][]\n",
      "          printf(\"\\n\\nLU form of matrix of a[][]:\\n\");\n",
      "          for(i = 0; i < n; i++) {\n",
      "            printf(\"\\n\");\n",
      "            for(j = 0; j < n; j++) {\n",
      "              printf(\" a[%2d][%2d] = %12.4E\",i, j, a[i][j]);\n",
      "        \n"
     ]
    },
    {
     "cell_type": "markdown",
     "metadata": {},
     "source": [
      "### How to use the Library functions"
     ]
    },
    {
     "cell_type": "markdown",
     "metadata": {},
     "source": [
      "          // find inverse of a[][] by columns\n",
      "          for(j = 0; j < n; j++) {\n",
      "            // initialize right-side of linear equations\n",
      "            for(i = 0; i < n; i++) col[i] = 0.0;\n",
      "            col[j] = 1.0;\n",
      "            lubksb(a, n, indx, col);\n",
      "            // save result in y[][]\n",
      "            for(i = 0; i < n; i++) y[i][j] = col[i];\n",
      "          }   //j-loop over columns\n",
      "          // return the inverse matrix in a[][]\n",
      "          for(i = 0; i < n; i++) {\n",
      "            for(j = 0; j < n; j++) a[i][j] = y[i][j];\n",
      "        \n",
      "          free_matrix((void **) y);     // release local memory\n",
      "          delete [] col;\n",
      "          delete []indx;\n",
      "        }  // End: function inverse()\n"
     ]
    },
    {
     "cell_type": "markdown",
     "metadata": {},
     "source": [
      "### How to use the Library functions\n",
      "\n",
      "For Fortran users:"
     ]
    },
    {
     "cell_type": "markdown",
     "metadata": {},
     "source": [
      "        PROGRAM matrix\n",
      "          USE constants\n",
      "          USE F90library\n",
      "          IMPLICIT NONE\n",
      "          !      The definition of the matrix, using dynamic allocation\n",
      "          REAL(DP), ALLOCATABLE, DIMENSION(:,:) :: a, ainv, unity\n",
      "          !      the determinant\n",
      "          REAL(DP) :: d\n",
      "          !      The size of the matrix\n",
      "          INTEGER :: n\n",
      "          ....\n",
      "          !      Allocate now place in heap for a\n",
      "          ALLOCATE ( a(n,n), ainv(n,n), unity(n,n) )\n"
     ]
    },
    {
     "cell_type": "markdown",
     "metadata": {},
     "source": [
      "### How to use the Library functions\n",
      "\n",
      "For Fortran users:"
     ]
    },
    {
     "cell_type": "markdown",
     "metadata": {},
     "source": [
      "          WRITE(6,*) ' The matrix before inversion'\n",
      "          WRITE(6,'(3F12.6)') a\n",
      "          ainv=a\n",
      "          CALL matinv (ainv, n, d)\n",
      "          ....\n",
      "          !      get the unity matrix\n",
      "          unity=MATMUL(ainv,a)\n",
      "          WRITE(6,*) ' The unity matrix'\n",
      "          WRITE(6,'(3F12.6)') unity\n",
      "          !      deallocate all arrays\n",
      "          DEALLOCATE (a, ainv, unity)\n",
      "        END PROGRAM matrix\n",
      "        \n"
     ]
    },
    {
     "cell_type": "markdown",
     "metadata": {},
     "source": [
      "### Iterative methods, Chapter 6\n",
      " * Direct solvers such as Gauss elimination and  LU decomposition discussed in connection with project 1.\n",
      "\n",
      " * Iterative solvers such as Basic iterative solvers,  Jacobi,  Gauss-Seidel, Successive over-relaxation. These methods are easy to parallelize, as we will se later. Much used in solutions of partial differential equations.\n",
      "\n",
      " * Other iterative methods such as Krylov subspace methods with Generalized minimum residual (GMRES) and Conjugate gradient etc will not be discussed.\n",
      "\n",
      "\n",
      "\n",
      "\n",
      "### Iterative methods, Jacobi's method\n",
      "It is a simple method for solving"
     ]
    },
    {
     "cell_type": "markdown",
     "metadata": {},
     "source": [
      "$$\n",
      "\\hat{A}{\\bf x}={\\bf b},\n",
      "$$"
     ]
    },
    {
     "cell_type": "markdown",
     "metadata": {},
     "source": [
      "where $\\hat{A}$ is a matrix and ${\\bf x}$ and ${\\bf b}$ are vectors. The vector ${\\bf x}$ is \n",
      "the unknown.\n",
      "\n",
      "It is an iterative scheme where we start with a guess for the unknown, and \n",
      "after $k+1$ iterations we have"
     ]
    },
    {
     "cell_type": "markdown",
     "metadata": {},
     "source": [
      "$$\n",
      "{\\bf x}^{(k+1)}= \\hat{D}^{-1}({\\bf b}-(\\hat{L}+\\hat{U}){\\bf x}^{(k)}),\n",
      "$$"
     ]
    },
    {
     "cell_type": "markdown",
     "metadata": {},
     "source": [
      "with $\\hat{A}=\\hat{D}+\\hat{U}+\\hat{L}$ and\n",
      "$\\hat{D}$ being a diagonal matrix, $\\hat{U}$ an upper triangular matrix and $\\hat{L}$ a  lower triangular\n",
      "matrix.\n",
      "\n",
      "If the matrix $\\hat{A}$ is positive definite or diagonally dominant, one can show that this method will always converge to the exact solution.\n",
      "\n",
      "\n",
      "\n",
      "\n",
      "### Iterative methods, Jacobi's method\n",
      "We can demonstrate Jacobi's method by this $4\\times 4$ matrix problem. We assume a guess\n",
      "for the vector elements $x_i^{(0)}$, a guess which represents our first iteration. The new\n",
      "values are obtained by substitution"
     ]
    },
    {
     "cell_type": "markdown",
     "metadata": {},
     "source": [
      "$$\n",
      "\\begin{eqnarray}\n",
      " x_1^{(1)} =&(b_1-a_{12}x_2^{(0)} -a_{13}x_3^{(0)} - a_{14}x_4^{(0)})/a_{11} \\nonumber \\\\\n",
      " x_2^{(1)} =&(b_2-a_{21}x_1^{(0)} - a_{23}x_3^{(0)} - a_{24}x_4^{(0)})/a_{22} \\nonumber \\\\\n",
      " x_3^{(1)} =&(b_3- a_{31}x_1^{(0)} -a_{32}x_2^{(0)} -a_{34}x_4^{(0)})/a_{33} \\nonumber \\\\\n",
      " x_4^{(1)}=&(b_4-a_{41}x_1^{(0)} -a_{42}x_2^{(0)} - a_{43}x_3^{(0)})/a_{44},  \\nonumber\n",
      "\\end{eqnarray}\n",
      "$$"
     ]
    },
    {
     "cell_type": "markdown",
     "metadata": {},
     "source": [
      "which after $k+1$ iterations reads"
     ]
    },
    {
     "cell_type": "markdown",
     "metadata": {},
     "source": [
      "$$\n",
      "\\begin{eqnarray}\n",
      " x_1^{(k+1)} =&(b_1-a_{12}x_2^{(k)} -a_{13}x_3^{(k)} - a_{14}x_4^{(k)})/a_{11} \\nonumber \\\\\n",
      " x_2^{(k+1)} =&(b_2-a_{21}x_1^{(k)} - a_{23}x_3^{(k)} - a_{24}x_4^{(k)})/a_{22} \\nonumber \\\\\n",
      " x_3^{(k+1)} =&(b_3- a_{31}x_1^{(k)} -a_{32}x_2^{(k)} -a_{34}x_4^{(k)})/a_{33} \\nonumber \\\\\n",
      " x_4^{(k+1)}=&(b_4-a_{41}x_1^{(k)} -a_{42}x_2^{(k)} - a_{43}x_3^{(k)})/a_{44},  \\nonumber\n",
      "\\end{eqnarray}\n",
      "$$"
     ]
    },
    {
     "cell_type": "markdown",
     "metadata": {},
     "source": [
      "### Iterative methods, Jacobi's method\n",
      "We can generalize the above equations to"
     ]
    },
    {
     "cell_type": "markdown",
     "metadata": {},
     "source": [
      "$$\n",
      "x_i^{(k+1)}=(b_i-\\sum_{j=1, j\\ne i}^{n}a_{ij}x_j^{(k)})/a_{ii}\n",
      "$$"
     ]
    },
    {
     "cell_type": "markdown",
     "metadata": {},
     "source": [
      "or in an even more compact form as"
     ]
    },
    {
     "cell_type": "markdown",
     "metadata": {},
     "source": [
      "$$\n",
      "{\\bf x}^{(k+1)}= \\hat{D}^{-1}({\\bf b}-(\\hat{L}+\\hat{U}){\\bf x}^{(k)}),\n",
      "$$"
     ]
    },
    {
     "cell_type": "markdown",
     "metadata": {},
     "source": [
      "with $\\hat{A}=\\hat{D}+\\hat{U}+\\hat{L}$ and\n",
      "$\\hat{D}$ being a diagonal matrix, $\\hat{U}$ an upper triangular matrix and $\\hat{L}$ a  lower triangular\n",
      "matrix.\n",
      "\n",
      "\n",
      "\n",
      "### Iterative methods, Gauss-Seidel's method\n",
      "Our $4\\times 4$ matrix problem"
     ]
    },
    {
     "cell_type": "markdown",
     "metadata": {},
     "source": [
      "$$\n",
      "\\begin{eqnarray}\n",
      " x_1^{(k+1)} =&(b_1-a_{12}x_2^{(k)} -a_{13}x_3^{(k)} - a_{14}x_4^{(k)})/a_{11} \\nonumber \\\\\n",
      " x_2^{(k+1)} =&(b_2-a_{21}x_1^{(k)} - a_{23}x_3^{(k)} - a_{24}x_4^{(k)})/a_{22} \\nonumber \\\\\n",
      " x_3^{(k+1)} =&(b_3- a_{31}x_1^{(k)} -a_{32}x_2^{(k)} -a_{34}x_4^{(k)})/a_{33} \\nonumber \\\\\n",
      " x_4^{(k+1)}=&(b_4-a_{41}x_1^{(k)} -a_{42}x_2^{(k)} - a_{43}x_3^{(k)})/a_{44},  \\nonumber\n",
      "\\end{eqnarray}\n",
      "$$"
     ]
    },
    {
     "cell_type": "markdown",
     "metadata": {},
     "source": [
      "can be rewritten as"
     ]
    },
    {
     "cell_type": "markdown",
     "metadata": {},
     "source": [
      "$$\n",
      "\\begin{eqnarray}\n",
      " x_1^{(k+1)} =&(b_1-a_{12}x_2^{(k)} -a_{13}x_3^{(k)} - a_{14}x_4^{(k)})/a_{11} \\nonumber \\\\\n",
      " x_2^{(k+1)} =&(b_2-a_{21}x_1^{(k+1)} - a_{23}x_3^{(k)} - a_{24}x_4^{(k)})/a_{22} \\nonumber \\\\\n",
      " x_3^{(k+1)} =&(b_3- a_{31}x_1^{(k+1)} -a_{32}x_2^{(k+1)} -a_{34}x_4^{(k)})/a_{33} \\nonumber \\\\\n",
      " x_4^{(k+1)}=&(b_4-a_{41}x_1^{(k+1)} -a_{42}x_2^{(k+1)} - a_{43}x_3^{(k+1)})/a_{44},  \\nonumber\n",
      "\\end{eqnarray}\n",
      "$$"
     ]
    },
    {
     "cell_type": "markdown",
     "metadata": {},
     "source": [
      "which allows us to utilize the preceding solution (forward substitution). This improves normally the convergence\n",
      "behavior and leads to the Gauss-Seidel method!\n",
      "\n",
      "\n",
      "\n",
      "### Iterative methods, Gauss-Seidel's method\n",
      "We can generalize"
     ]
    },
    {
     "cell_type": "markdown",
     "metadata": {},
     "source": [
      "$$\n",
      "\\begin{eqnarray}\n",
      " x_1^{(k+1)} =&(b_1-a_{12}x_2^{(k)} -a_{13}x_3^{(k)} - a_{14}x_4^{(k)})/a_{11} \\nonumber \\\\\n",
      " x_2^{(k+1)} =&(b_2-a_{21}x_1^{(k+1)} - a_{23}x_3^{(k)} - a_{24}x_4^{(k)})/a_{22} \\nonumber \\\\\n",
      " x_3^{(k+1)} =&(b_3- a_{31}x_1^{(k+1)} -a_{32}x_2^{(k+1)} -a_{34}x_4^{(k)})/a_{33} \\nonumber \\\\\n",
      " x_4^{(k+1)}=&(b_4-a_{41}x_1^{(k+1)} -a_{42}x_2^{(k+1)} - a_{43}x_3^{(k+1)})/a_{44},  \\nonumber\n",
      "\\end{eqnarray}\n",
      "$$"
     ]
    },
    {
     "cell_type": "markdown",
     "metadata": {},
     "source": [
      "to the following form"
     ]
    },
    {
     "cell_type": "markdown",
     "metadata": {},
     "source": [
      "$$\n",
      "x^{(k+1)}_i = \\frac{1}{a_{ii}} \\left(b_i - \\sum_{j > i}a_{ij}x^{(k)}_j - \\sum_{j < i}a_{ij}x^{(k+1)}_j \\right),\\quad i=1,2,\\ldots,n.\n",
      "$$"
     ]
    },
    {
     "cell_type": "markdown",
     "metadata": {},
     "source": [
      "The procedure is generally continued until the changes made by an iteration are below some tolerance.\n",
      "\n",
      "The convergence properties of the Jacobi method and the \n",
      "Gauss-Seidel method are dependent on the matrix $\\hat{A}$. These methods converge when\n",
      "the matrix is symmetric positive-definite, or is strictly or irreducibly diagonally dominant.\n",
      "Both methods sometimes converge even if these conditions are not satisfied.\n",
      "\n",
      "\n",
      "\n",
      "### Iterative methods, Successive over-relaxation\n",
      "Given a square system of n linear equations with unknown $\\mathbf x$:"
     ]
    },
    {
     "cell_type": "markdown",
     "metadata": {},
     "source": [
      "$$\n",
      "\\hat{A}\\mathbf x = \\mathbf b\n",
      "$$"
     ]
    },
    {
     "cell_type": "markdown",
     "metadata": {},
     "source": [
      "where"
     ]
    },
    {
     "cell_type": "markdown",
     "metadata": {},
     "source": [
      "$$\n",
      "\\hat{A}=\\begin{bmatrix} a_{11} & a_{12} & \\cdots & a_{1n} \\\\ a_{21} & a_{22} & \\cdots & a_{2n} \\\\ \\vdots & \\vdots & \\ddots & \\vdots \\\\a_{n1} & a_{n2} & \\cdots & a_{nn} \\end{bmatrix}, \\qquad \\mathbf{x} = \\begin{bmatrix} x_{1} \\\\ x_2 \\\\ \\vdots \\\\ x_n \\end{bmatrix} , \\qquad \\mathbf{b} = \\begin{bmatrix} b_{1} \\\\ b_2 \\\\ \\vdots \\\\ b_n \\end{bmatrix}.\n",
      "$$"
     ]
    },
    {
     "cell_type": "markdown",
     "metadata": {},
     "source": [
      "### Iterative methods, Successive over-relaxation\n",
      "Then A can be decomposed into a diagonal component D, and strictly lower and upper triangular components L and U:"
     ]
    },
    {
     "cell_type": "markdown",
     "metadata": {},
     "source": [
      "$$\n",
      "\\hat{A} =\\hat{D} + \\hat{L} + \\hat{U},\n",
      "$$"
     ]
    },
    {
     "cell_type": "markdown",
     "metadata": {},
     "source": [
      "where"
     ]
    },
    {
     "cell_type": "markdown",
     "metadata": {},
     "source": [
      "$$\n",
      "D = \\begin{bmatrix} a_{11} & 0 & \\cdots & 0 \\\\ 0 & a_{22} & \\cdots & 0 \\\\ \\vdots & \\vdots & \\ddots & \\vdots \\\\0 & 0 & \\cdots & a_{nn} \\end{bmatrix}, \\quad L = \\begin{bmatrix} 0 & 0 & \\cdots & 0 \\\\ a_{21} & 0 & \\cdots & 0 \\\\ \\vdots & \\vdots & \\ddots & \\vdots \\\\a_{n1} & a_{n2} & \\cdots & 0 \\end{bmatrix}, \\quad U = \\begin{bmatrix} 0 & a_{12} & \\cdots & a_{1n} \\\\ 0 & 0 & \\cdots & a_{2n} \\\\ \\vdots & \\vdots & \\ddots & \\vdots \\\\0 & 0 & \\cdots & 0 \\end{bmatrix}.\n",
      "$$"
     ]
    },
    {
     "cell_type": "markdown",
     "metadata": {},
     "source": [
      "The system of linear equations may be rewritten as:"
     ]
    },
    {
     "cell_type": "markdown",
     "metadata": {},
     "source": [
      "$$\n",
      "(D+\\omega L) \\mathbf{x} = \\omega \\mathbf{b} - [\\omega U + (\\omega-1) D ] \\mathbf{x}\n",
      "$$"
     ]
    },
    {
     "cell_type": "markdown",
     "metadata": {},
     "source": [
      "for a constant $\\omega > 1$.\n",
      "\n",
      "\n",
      "\n",
      "\n",
      "### Iterative methods, Successive over-relaxation\n",
      "The method of successive over-relaxation is an iterative technique that solves the left hand side of this expression for $x$, using previous value for $x$ on the right hand side. Analytically, this may be written as:"
     ]
    },
    {
     "cell_type": "markdown",
     "metadata": {},
     "source": [
      "$$\n",
      "\\mathbf{x}^{(k+1)} = (D+\\omega L)^{-1} \\big(\\omega \\mathbf{b} - [\\omega U + (\\omega-1) D ] \\mathbf{x}^{(k)}\\big).\n",
      "$$"
     ]
    },
    {
     "cell_type": "markdown",
     "metadata": {},
     "source": [
      "However, by taking advantage of the triangular form of $(D+\\omega L)$, the elements of $x^{(k+1)}$ can be computed sequentially using forward substitution:"
     ]
    },
    {
     "cell_type": "markdown",
     "metadata": {},
     "source": [
      "$$\n",
      "x^{(k+1)}_i = (1-\\omega)x^{(k)}_i + \\frac{\\omega}{a_{ii}} \\left(b_i - \\sum_{j > i} a_{ij}x^{(k)}_j - \\sum_{j < i} a_{ij}x^{(k+1)}_j \\right),\\quad i=1,2,\\ldots,n.\n",
      "$$"
     ]
    },
    {
     "cell_type": "markdown",
     "metadata": {},
     "source": [
      "The choice of relaxation factor is not necessarily easy, and depends upon the properties of the coefficient matrix. For symmetric, positive-definite matrices it can be proven that $0 < \\omega < 2$ will lead to convergence, but we are generally interested in faster convergence rather than just convergence.\n",
      "\n",
      "\n",
      "\n",
      "\n",
      "\n",
      "### Cubic Splines, Chapter 6\n",
      "Cubic spline interpolation is among one of the most used \n",
      "methods for interpolating between data points where the arguments\n",
      "are organized as ascending series. In the library program we supply\n",
      "such a function, based on the so-called cubic spline method to be \n",
      "described below. \n",
      "\n",
      "A spline function consists of polynomial pieces defined on\n",
      "subintervals. The different subintervals are connected via\n",
      "various continuity relations.\n",
      "\n",
      "Assume we have at our disposal $n+1$ points $x_0, x_1, \\dots x_n$ \n",
      "arranged so that $x_0 < x_1 < x_2 < \\dots x_{n-1} < x_n$ (such points are called\n",
      "knots). A spline function $s$ of degree $k$ with $n+1$ knots is defined\n",
      "as follows\n",
      " * On every subinterval $[x_{i-1},x_i)$ *s* is a polynomial of degree $\\le k$.\n",
      "\n",
      " * $s$ has $k-1$ continuous derivatives in the whole interval $[x_0,x_n]$.\n",
      "\n",
      "\n",
      "\n",
      "\n",
      "\n",
      "### Splines\n",
      "As an example, consider a spline function of degree $k=1$ defined as follows"
     ]
    },
    {
     "cell_type": "markdown",
     "metadata": {},
     "source": [
      "$$\n",
      "s(x)=\\left\\{\\begin{array}{cc} s_0(x)=a_0x+b_0 & x\\in [x_0, x_1) \\\\   \n",
      "                             s_1(x)=a_1x+b_1 & x\\in [x_1, x_2) \\\\   \n",
      "                             \\dots & \\dots \\\\\n",
      "                             s_{n-1}(x)=a_{n-1}x+b_{n-1} & x\\in \n",
      "                             [x_{n-1}, x_n] \\end{array}\\right.\n",
      "$$"
     ]
    },
    {
     "cell_type": "markdown",
     "metadata": {},
     "source": [
      "In this case the polynomial consists of series of straight lines \n",
      "connected to each other at every endpoint. The number of continuous\n",
      "derivatives is then $k-1=0$, as expected when we deal with straight lines.\n",
      "Such a polynomial is quite easy to construct given\n",
      "$n+1$ points $x_0, x_1, \\dots x_n$ and their corresponding \n",
      "function values.\n",
      "\n",
      "\n",
      "\n",
      "\n",
      "### Splines\n",
      "The most commonly used spline function is the one with $k=3$, the so-called\n",
      "cubic spline function. \n",
      "Assume that we have in adddition to the $n+1$ knots a series of\n",
      "functions values $y_0=f(x_0), y_1=f(x_1), \\dots y_n=f(x_n)$.\n",
      "By definition, the polynomials $s_{i-1}$ and $s_i$ \n",
      "are thence supposed to interpolate the same point $i$, that is"
     ]
    },
    {
     "cell_type": "markdown",
     "metadata": {},
     "source": [
      "$$\n",
      "s_{i-1}(x_i)= y_i = s_i(x_i),\n",
      "$$"
     ]
    },
    {
     "cell_type": "markdown",
     "metadata": {},
     "source": [
      "with $1 \\le i \\le n-1$. In total we have $n$ polynomials of the \n",
      "type"
     ]
    },
    {
     "cell_type": "markdown",
     "metadata": {},
     "source": [
      "$$\n",
      "s_i(x)=a_{i0}+a_{i1}x+a_{i2}x^2+a_{i2}x^3,\n",
      "$$"
     ]
    },
    {
     "cell_type": "markdown",
     "metadata": {},
     "source": [
      "yielding $4n$ coefficients to determine.\n",
      "\n",
      "\n",
      "\n",
      "\n",
      "### Splines\n",
      "Every subinterval provides in addition the $2n$ conditions"
     ]
    },
    {
     "cell_type": "markdown",
     "metadata": {},
     "source": [
      "$$\n",
      "y_i = s(x_i),\n",
      "$$"
     ]
    },
    {
     "cell_type": "markdown",
     "metadata": {},
     "source": [
      "and"
     ]
    },
    {
     "cell_type": "markdown",
     "metadata": {},
     "source": [
      "$$\n",
      "s(x_{i+1})= y_{i+1},\n",
      "$$"
     ]
    },
    {
     "cell_type": "markdown",
     "metadata": {},
     "source": [
      "to be fulfilled. If we also assume that $s'$ and $s''$ are continuous,\n",
      "then"
     ]
    },
    {
     "cell_type": "markdown",
     "metadata": {},
     "source": [
      "$$\n",
      "s'_{i-1}(x_i)= s'_i(x_i),\n",
      "$$"
     ]
    },
    {
     "cell_type": "markdown",
     "metadata": {},
     "source": [
      "yields $n-1$ conditions. Similarly,"
     ]
    },
    {
     "cell_type": "markdown",
     "metadata": {},
     "source": [
      "$$\n",
      "s''_{i-1}(x_i)= s''_i(x_i),\n",
      "$$"
     ]
    },
    {
     "cell_type": "markdown",
     "metadata": {},
     "source": [
      "results in additional $n-1$ conditions. In total we have $4n$ coefficients\n",
      "and $4n-2$ equations to determine them, leaving us with $2$ degrees of \n",
      "freedom to be determined.\n",
      "\n",
      "\n",
      "\n",
      "### Splines\n",
      "Using the last equation we define two values for the second derivative, namely"
     ]
    },
    {
     "cell_type": "markdown",
     "metadata": {},
     "source": [
      "$$\n",
      "s''_{i}(x_i)= f_i,\n",
      "$$"
     ]
    },
    {
     "cell_type": "markdown",
     "metadata": {},
     "source": [
      "and"
     ]
    },
    {
     "cell_type": "markdown",
     "metadata": {},
     "source": [
      "$$\n",
      "s''_{i}(x_{i+1})= f_{i+1},\n",
      "$$"
     ]
    },
    {
     "cell_type": "markdown",
     "metadata": {},
     "source": [
      "and setting up a straight line between $f_i$ and $f_{i+1}$ we have"
     ]
    },
    {
     "cell_type": "markdown",
     "metadata": {},
     "source": [
      "$$\n",
      "s_i''(x) = \\frac{f_i}{x_{i+1}-x_i}(x_{i+1}-x)+\n",
      "               \\frac{f_{i+1}}{x_{i+1}-x_i}(x-x_i),\n",
      "$$"
     ]
    },
    {
     "cell_type": "markdown",
     "metadata": {},
     "source": [
      "and integrating twice one obtains"
     ]
    },
    {
     "cell_type": "markdown",
     "metadata": {},
     "source": [
      "$$\n",
      "s_i(x) = \\frac{f_i}{6(x_{i+1}-x_i)}(x_{i+1}-x)^3+\n",
      "               \\frac{f_{i+1}}{6(x_{i+1}-x_i)}(x-x_i)^3\n",
      "             +c(x-x_i)+d(x_{i+1}-x).\n",
      "$$"
     ]
    },
    {
     "cell_type": "markdown",
     "metadata": {},
     "source": [
      "### Splines\n",
      "Using the conditions $s_i(x_i)=y_i$ and $s_i(x_{i+1})=y_{i+1}$ \n",
      "we can in turn determine the constants $c$ and $d$ resulting in"
     ]
    },
    {
     "cell_type": "markdown",
     "metadata": {},
     "source": [
      "$$\n",
      "\\begin{eqnarray}\n",
      "   s_i(x) =&\\frac{f_i}{6(x_{i+1}-x_i)}(x_{i+1}-x)^3+\n",
      "               \\frac{f_{i+1}}{6(x_{i+1}-x_i)}(x-x_i)^3 \\nonumber  \\\\ \n",
      "            +&(\\frac{y_{i+1}}{x_{i+1}-x_i}-\\frac{f_{i+1}(x_{i+1}-x_i)}{6})\n",
      "              (x-x_i)+\n",
      "             (\\frac{y_{i}}{x_{i+1}-x_i}-\\frac{f_{i}(x_{i+1}-x_i)}{6})\n",
      "             (x_{i+1}-x).\n",
      "\\end{eqnarray}\n",
      "$$"
     ]
    },
    {
     "cell_type": "markdown",
     "metadata": {},
     "source": [
      "### Splines\n",
      "How to determine the values of the second\n",
      "derivatives $f_{i}$ and $f_{i+1}$? We use the continuity assumption \n",
      "of the first derivatives"
     ]
    },
    {
     "cell_type": "markdown",
     "metadata": {},
     "source": [
      "$$\n",
      "s'_{i-1}(x_i)= s'_i(x_i),\n",
      "$$"
     ]
    },
    {
     "cell_type": "markdown",
     "metadata": {},
     "source": [
      "and set $x=x_i$. Defining $h_i=x_{i+1}-x_i$ we obtain finally\n",
      "the following expression"
     ]
    },
    {
     "cell_type": "markdown",
     "metadata": {},
     "source": [
      "$$\n",
      "h_{i-1}f_{i-1}+2(h_{i}+h_{i-1})f_i+h_if_{i+1}=\n",
      "   \\frac{6}{h_i}(y_{i+1}-y_i)-\\frac{6}{h_{i-1}}(y_{i}-y_{i-1}),\n",
      "$$"
     ]
    },
    {
     "cell_type": "markdown",
     "metadata": {},
     "source": [
      "and introducing the shorthands $u_i=2(h_{i}+h_{i-1})$, \n",
      "$v_i=\\frac{6}{h_i}(y_{i+1}-y_i)-\\frac{6}{h_{i-1}}(y_{i}-y_{i-1})$,\n",
      "we can reformulate the problem as a set of linear equations to be \n",
      "solved  through e.g., Gaussian elemination\n",
      "\n",
      "\n",
      "\n",
      "\n",
      "### Splines\n",
      "Gaussian elimination"
     ]
    },
    {
     "cell_type": "markdown",
     "metadata": {},
     "source": [
      "$$\n",
      "\\left[\\begin{array}{cccccccc} u_1 & h_1 &0 &\\dots & & & & \\\\\n",
      "                                 h_1 & u_2 & h_2 &0 &\\dots & & & \\\\\n",
      "                                  0   & h_2 & u_3 & h_3 &0 &\\dots & & \\\\\n",
      "                               \\dots& & \\dots &\\dots &\\dots &\\dots &\\dots & \\\\\n",
      "                                 &\\dots & & &0 &h_{n-3} &u_{n-2} &h_{n-2} \\\\\n",
      "                                 & && & &0 &h_{n-2} &u_{n-1} \\end{array}\\right]\n",
      "   \\left[\\begin{array}{c} f_1 \\\\ \n",
      "                          f_2 \\\\\n",
      "                          f_3\\\\\n",
      "                          \\dots \\\\\n",
      "                          f_{n-2} \\\\ \n",
      "                          f_{n-1} \\end{array} \\right] =\n",
      "   \\left[\\begin{array}{c} v_1 \\\\ \n",
      "                          v_2 \\\\\n",
      "                          v_3\\\\\n",
      "                          \\dots \\\\\n",
      "                          v_{n-2}\\\\\n",
      "                          v_{n-1} \\end{array} \\right].\n",
      "$$"
     ]
    },
    {
     "cell_type": "markdown",
     "metadata": {},
     "source": [
      "Note that this is a set of tridiagonal equations and can be solved \n",
      "through only $O(n)$ operations.\n",
      "\n",
      "\n",
      "\n",
      "### Splines\n",
      "The functions supplied in the program library are *spline* and *splint*.\n",
      "In order to use cubic spline interpolation you need first to call"
     ]
    },
    {
     "cell_type": "markdown",
     "metadata": {},
     "source": [
      "        spline(double x[], double y[], int n, double yp1,  double yp2, double y2[])\n"
     ]
    },
    {
     "cell_type": "markdown",
     "metadata": {},
     "source": [
      "This function takes as\n",
      "input $x[0,..,n - 1]$ and $y[0,..,n - 1]$ containing a tabulation\n",
      "$y_i = f(x_i)$ with $x_0 < x_1 < .. < x_{n - 1}$ \n",
      "together with the \n",
      "first derivatives  of $f(x)$ at $x_0$ and $x_{n-1}$, respectively. Then the\n",
      "function returns $y2[0,..,n-1]$ which contains the second derivatives of\n",
      "$f(x_i)$ at each point $x_i$. $n$ is the number of points.\n",
      "This function provides the cubic spline interpolation for all subintervals\n",
      "and is called only once.\n",
      "\n",
      "\n",
      "\n",
      "\n",
      "### Splines\n",
      "Thereafter, if you wish to make  various interpolations, you need to call the function"
     ]
    },
    {
     "cell_type": "markdown",
     "metadata": {},
     "source": [
      "        splint(double x[], double y[], double y2a[], int n, double x, double *y)\n"
     ]
    },
    {
     "cell_type": "markdown",
     "metadata": {},
     "source": [
      "which takes as input\n",
      "the tabulated values $x[0,..,n - 1]$ and $y[0,..,n - 1]$ and the output \n",
      "y2a[0,..,n - 1] from *spline*. It returns the value $y$ corresponding\n",
      "to the point $x$."
     ]
    }
   ],
   "metadata": {}
  }
 ]
}
